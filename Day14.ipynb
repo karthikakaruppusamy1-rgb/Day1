{
 "cells": [
  {
   "cell_type": "code",
   "execution_count": 1,
   "id": "df6a410c-808f-45a5-ab24-7d2eb1159b01",
   "metadata": {},
   "outputs": [
    {
     "name": "stdout",
     "output_type": "stream",
     "text": [
      "Player 2 wins\n"
     ]
    }
   ],
   "source": [
    "def game(a1, a2):\n",
    "    if a1 == a2:\n",
    "        return \"Draw\"\n",
    "    elif a1 == \"stone\" and a2 == \"paper\":\n",
    "        return \"Player 2 wins\"\n",
    "    elif a1 == \"paper\" and a2 == \"stone\":\n",
    "        return \"Player 1 wins\"\n",
    "\n",
    "a1 = \"stone\"\n",
    "a2 = \"paper\"\n",
    "\n",
    "print(game(a1, a2))"
   ]
  },
  {
   "cell_type": "code",
   "execution_count": 1,
   "id": "d944a0af-960e-4a83-9cbd-4cb2728792b4",
   "metadata": {},
   "outputs": [
    {
     "name": "stdout",
     "output_type": "stream",
     "text": [
      "Player 2 wins\n"
     ]
    }
   ],
   "source": [
    "def game(a1, a2):\n",
    "    if a1 == a2:\n",
    "        return \"Draw\"\n",
    "    elif (a1 == \"stone\" and a2 == \"scissors\") or \\\n",
    "         (a1 == \"paper\" and a2 == \"stone\") or \\\n",
    "         (a1 == \"scissors\" and a2 == \"paper\"):\n",
    "        return \"Player 1 wins\"\n",
    "    else:\n",
    "        return \"Player 2 wins\"\n",
    "\n",
    "\n",
    "a1 = \"stone\"\n",
    "a2 = \"paper\"\n",
    "\n",
    "print(game(a1, a2))   "
   ]
  },
  {
   "cell_type": "code",
   "execution_count": 2,
   "id": "19cceb17-74dd-43eb-94cf-b95423227f9f",
   "metadata": {},
   "outputs": [
    {
     "name": "stdin",
     "output_type": "stream",
     "text": [
      "Player 1, enter stone/paper/scissors:  paper\n",
      "Player 2, enter stone/paper/scissors:  scissors\n"
     ]
    },
    {
     "name": "stdout",
     "output_type": "stream",
     "text": [
      "Player 2 wins\n"
     ]
    }
   ],
   "source": [
    "def game(a1, a2):\n",
    "    if a1 == a2:\n",
    "        return \"Draw\"\n",
    "    elif (a1 == \"stone\" and a2 == \"scissors\") or \\\n",
    "         (a1 == \"paper\" and a2 == \"stone\") or \\\n",
    "         (a1 == \"scissors\" and a2 == \"paper\"):\n",
    "        return \"Player 1 wins\"\n",
    "    else:\n",
    "        return \"Player 2 wins\"\n",
    "\n",
    "try:\n",
    "    a1 = input(\"Player 1, enter stone/paper/scissors: \").lower()\n",
    "    a2 = input(\"Player 2, enter stone/paper/scissors: \").lower()\n",
    "\n",
    "    choices = [\"stone\", \"paper\", \"scissors\"]\n",
    "\n",
    "    if a1 not in choices or a2 not in choices:\n",
    "        raise ValueError(\"Invalid input! Please enter stone, paper, or scissors.\")\n",
    "\n",
    "    print(game(a1, a2))\n",
    "\n",
    "except ValueError as e:\n",
    "    print(\"Error:\", e)"
   ]
  },
  {
   "cell_type": "code",
   "execution_count": null,
   "id": "d8cd6c0b-2a50-4178-9220-c9b954594113",
   "metadata": {},
   "outputs": [],
   "source": []
  }
 ],
 "metadata": {
  "kernelspec": {
   "display_name": "Python 3 (ipykernel)",
   "language": "python",
   "name": "python3"
  },
  "language_info": {
   "codemirror_mode": {
    "name": "ipython",
    "version": 3
   },
   "file_extension": ".py",
   "mimetype": "text/x-python",
   "name": "python",
   "nbconvert_exporter": "python",
   "pygments_lexer": "ipython3",
   "version": "3.13.5"
  }
 },
 "nbformat": 4,
 "nbformat_minor": 5
}
