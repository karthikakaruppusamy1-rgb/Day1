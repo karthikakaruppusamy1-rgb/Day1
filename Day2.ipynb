{
 "cells": [
  {
   "cell_type": "code",
   "execution_count": 4,
   "id": "1e0a9efd-244f-4c2e-a8df-31d16f2bb4a3",
   "metadata": {},
   "outputs": [
    {
     "name": "stdout",
     "output_type": "stream",
     "text": [
      "python\n"
     ]
    }
   ],
   "source": [
    "import string\n",
    "print(\"python\")"
   ]
  },
  {
   "cell_type": "code",
   "execution_count": 3,
   "id": "146ba33b-7854-4ea9-b14f-2fc99d35a923",
   "metadata": {},
   "outputs": [
    {
     "data": {
      "text/plain": [
       "'3.13.5 | packaged by Anaconda, Inc. | (main, Jun 12 2025, 16:37:03) [MSC v.1929 64 bit (AMD64)]'"
      ]
     },
     "execution_count": 3,
     "metadata": {},
     "output_type": "execute_result"
    }
   ],
   "source": [
    "import sys\n",
    "sys.version"
   ]
  },
  {
   "cell_type": "code",
   "execution_count": 7,
   "id": "d8398710-51fe-4c00-9551-7342379fa66a",
   "metadata": {},
   "outputs": [
    {
     "name": "stdout",
     "output_type": "stream",
     "text": [
      "['False', 'None', 'True', 'and', 'as', 'assert', 'async', 'await', 'break', 'class', 'continue', 'def', 'del', 'elif', 'else', 'except', 'finally', 'for', 'from', 'global', 'if', 'import', 'in', 'is', 'lambda', 'nonlocal', 'not', 'or', 'pass', 'raise', 'return', 'try', 'while', 'with', 'yield']\n"
     ]
    }
   ],
   "source": [
    "import keyword\n",
    "print(keyword.kwlist)"
   ]
  },
  {
   "cell_type": "code",
   "execution_count": 8,
   "id": "9c2b649b-36d3-4dbf-87f5-8b203181bb2c",
   "metadata": {},
   "outputs": [],
   "source": [
    "## single line comment"
   ]
  },
  {
   "cell_type": "code",
   "execution_count": 9,
   "id": "d7eec147-8f4a-4a9e-abd2-9fe05c7f1d2a",
   "metadata": {},
   "outputs": [
    {
     "data": {
      "text/plain": [
       "18"
      ]
     },
     "execution_count": 9,
     "metadata": {},
     "output_type": "execute_result"
    }
   ],
   "source": [
    "#using we can comment single line ex:\n",
    "a=6 #first value\n",
    "b=12 #second value\n",
    "c=18\n",
    "c"
   ]
  },
  {
   "cell_type": "code",
   "execution_count": 10,
   "id": "e07fd09f-f8c4-475a-9478-bf247653ddd2",
   "metadata": {},
   "outputs": [],
   "source": [
    "## multiline comment"
   ]
  },
  {
   "cell_type": "code",
   "execution_count": 11,
   "id": "b8024ef1-1e32-4ba0-8f79-b44296e25108",
   "metadata": {},
   "outputs": [
    {
     "data": {
      "text/plain": [
       "'k=4\\nl=8\\nprint(k+l)'"
      ]
     },
     "execution_count": 11,
     "metadata": {},
     "output_type": "execute_result"
    }
   ],
   "source": [
    "# using ''' we can comment multiline ex:\n",
    "'''k=4\n",
    "l=8\n",
    "print(k+l)'''"
   ]
  },
  {
   "cell_type": "code",
   "execution_count": 12,
   "id": "a0052395-7fa7-40e3-ab6f-c7e0ec826139",
   "metadata": {},
   "outputs": [],
   "source": [
    "## legal variables"
   ]
  },
  {
   "cell_type": "code",
   "execution_count": 13,
   "id": "d5fe3eb3-51a1-4e5c-a969-374c0fe14a37",
   "metadata": {},
   "outputs": [],
   "source": [
    "number=1\n",
    "num_ber=1\n",
    "_num_ber=1\n",
    "nuMBer=1\n",
    "NUMBER=1\n",
    "NUMBER1=1"
   ]
  },
  {
   "cell_type": "code",
   "execution_count": 14,
   "id": "88d9712f-96c8-4411-a14c-291df398eee9",
   "metadata": {},
   "outputs": [],
   "source": [
    "## illegal variables"
   ]
  },
  {
   "cell_type": "code",
   "execution_count": 15,
   "id": "95e9430d-b797-449f-87c7-f45e50253476",
   "metadata": {},
   "outputs": [
    {
     "ename": "SyntaxError",
     "evalue": "invalid decimal literal (2892059579.py, line 1)",
     "output_type": "error",
     "traceback": [
      "\u001b[1;36m  Cell \u001b[1;32mIn[15], line 1\u001b[1;36m\u001b[0m\n\u001b[1;33m    1number=1\u001b[0m\n\u001b[1;37m    ^\u001b[0m\n\u001b[1;31mSyntaxError\u001b[0m\u001b[1;31m:\u001b[0m invalid decimal literal\n"
     ]
    }
   ],
   "source": [
    "1number=1\n",
    "num-ber=1\n",
    "my var=1\n",
    "@my var=1"
   ]
  },
  {
   "cell_type": "code",
   "execution_count": 16,
   "id": "b0acece2-e286-4f90-bb7e-e8b4d7acdf9b",
   "metadata": {},
   "outputs": [],
   "source": [
    "## assign multiple values"
   ]
  },
  {
   "cell_type": "code",
   "execution_count": 17,
   "id": "c52b64c6-122c-4c66-b624-3f95d5b344bb",
   "metadata": {},
   "outputs": [
    {
     "data": {
      "text/plain": [
       "'apple'"
      ]
     },
     "execution_count": 17,
     "metadata": {},
     "output_type": "execute_result"
    }
   ],
   "source": [
    "a=b=c=\"apple\"\n",
    "c"
   ]
  },
  {
   "cell_type": "code",
   "execution_count": 18,
   "id": "d80c4f7c-8995-4fb9-9ab6-75cc31d1de51",
   "metadata": {},
   "outputs": [
    {
     "data": {
      "text/plain": [
       "'cat'"
      ]
     },
     "execution_count": 18,
     "metadata": {},
     "output_type": "execute_result"
    }
   ],
   "source": [
    "a,b,c=\"dog\",\"cat\",\"bird\"\n",
    "b"
   ]
  },
  {
   "cell_type": "code",
   "execution_count": 19,
   "id": "8ce449fa-005e-4e61-8cb6-6943ede31c5f",
   "metadata": {},
   "outputs": [],
   "source": [
    "## static value"
   ]
  },
  {
   "cell_type": "code",
   "execution_count": 20,
   "id": "d6fb784f-f419-4824-9dca-a21a1d70d623",
   "metadata": {},
   "outputs": [
    {
     "name": "stdout",
     "output_type": "stream",
     "text": [
      "134\n"
     ]
    }
   ],
   "source": [
    "a=56\n",
    "b=78\n",
    "print (a+b)"
   ]
  },
  {
   "cell_type": "code",
   "execution_count": 21,
   "id": "4bd4e340-5c3d-4c66-a51d-68f6283650c8",
   "metadata": {},
   "outputs": [],
   "source": [
    "## dynamic value"
   ]
  },
  {
   "cell_type": "code",
   "execution_count": 23,
   "id": "b06cba9b-6fe5-4c5e-97c2-b9477c8bb244",
   "metadata": {},
   "outputs": [
    {
     "name": "stdin",
     "output_type": "stream",
     "text": [
      " 14\n"
     ]
    },
    {
     "name": "stdout",
     "output_type": "stream",
     "text": [
      "14\n"
     ]
    }
   ],
   "source": [
    "a=input()\n",
    "print(a)"
   ]
  },
  {
   "cell_type": "code",
   "execution_count": 24,
   "id": "ee8256af-fbf8-44bc-9c94-cbcb1e19db80",
   "metadata": {},
   "outputs": [
    {
     "name": "stdout",
     "output_type": "stream",
     "text": [
      "<class 'str'>\n"
     ]
    }
   ],
   "source": [
    "a=\"86106\"\n",
    "print(type(a))"
   ]
  },
  {
   "cell_type": "code",
   "execution_count": 25,
   "id": "924b6036-46f2-4fa1-aca1-019660b45688",
   "metadata": {},
   "outputs": [
    {
     "name": "stdout",
     "output_type": "stream",
     "text": [
      "6\n"
     ]
    }
   ],
   "source": [
    "a_1=6\n",
    "print(a_1)"
   ]
  },
  {
   "cell_type": "code",
   "execution_count": 26,
   "id": "cf3e374f-7d4c-4189-8c05-8ed9e08050bb",
   "metadata": {},
   "outputs": [
    {
     "name": "stdin",
     "output_type": "stream",
     "text": [
      "enter your variable 25\n"
     ]
    },
    {
     "name": "stdout",
     "output_type": "stream",
     "text": [
      "25\n"
     ]
    }
   ],
   "source": [
    "my_variable=input(\"enter your variable\")\n",
    "print(my_variable)"
   ]
  },
  {
   "cell_type": "code",
   "execution_count": null,
   "id": "e0e0a558-a6e6-4708-84b4-978d74f353f8",
   "metadata": {},
   "outputs": [],
   "source": []
  }
 ],
 "metadata": {
  "kernelspec": {
   "display_name": "Python 3 (ipykernel)",
   "language": "python",
   "name": "python3"
  },
  "language_info": {
   "codemirror_mode": {
    "name": "ipython",
    "version": 3
   },
   "file_extension": ".py",
   "mimetype": "text/x-python",
   "name": "python",
   "nbconvert_exporter": "python",
   "pygments_lexer": "ipython3",
   "version": "3.13.5"
  }
 },
 "nbformat": 4,
 "nbformat_minor": 5
}
