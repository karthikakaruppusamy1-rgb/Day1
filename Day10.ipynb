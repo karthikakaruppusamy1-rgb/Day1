{
 "cells": [
  {
   "cell_type": "code",
   "execution_count": 1,
   "id": "4e442a36-236a-4447-8541-c2df9392ecdc",
   "metadata": {},
   "outputs": [
    {
     "name": "stdin",
     "output_type": "stream",
     "text": [
      "Enter a number: 10\n"
     ]
    },
    {
     "name": "stdout",
     "output_type": "stream",
     "text": [
      "1 + 9\n",
      "2 + 8\n",
      "3 + 7\n",
      "4 + 6\n",
      "5 + 5\n",
      "6 + 4\n",
      "7 + 3\n",
      "8 + 2\n",
      "9 + 1\n"
     ]
    }
   ],
   "source": [
    "k = int(input(\"Enter a number:\"))\n",
    "i = 1\n",
    "while i < k:\n",
    "    print(i, \"+\", (k-i))\n",
    "    i = i+1"
   ]
  },
  {
   "cell_type": "code",
   "execution_count": 3,
   "id": "b56d01d0-1577-4021-9a6a-5bfb6c1cf21d",
   "metadata": {},
   "outputs": [
    {
     "name": "stdout",
     "output_type": "stream",
     "text": [
      "how how are you\n"
     ]
    }
   ],
   "source": [
    "##function\n",
    "def function1():\n",
    "    print(\"how how are you\")\n",
    "function1()"
   ]
  },
  {
   "cell_type": "code",
   "execution_count": 5,
   "id": "edebab81-20ca-4b12-8338-70591a7342c7",
   "metadata": {},
   "outputs": [
    {
     "name": "stdin",
     "output_type": "stream",
     "text": [
      "enter your number: 5\n",
      "enter your number: 5\n"
     ]
    },
    {
     "name": "stdout",
     "output_type": "stream",
     "text": [
      "10\n"
     ]
    }
   ],
   "source": [
    "##argument, static, dynamic, global variable\n",
    "def add(a,b):\n",
    "    c=a+b\n",
    "    print(c)\n",
    "a=int(input(\"enter your number:\"))\n",
    "b=int(input(\"enter your number:\"))\n",
    "add(a,b)\n"
   ]
  },
  {
   "cell_type": "code",
   "execution_count": 11,
   "id": "b77b9530-213c-44a2-8a42-cb938bbe99c0",
   "metadata": {},
   "outputs": [
    {
     "name": "stdout",
     "output_type": "stream",
     "text": [
      "True\n",
      "False\n",
      "True\n"
     ]
    }
   ],
   "source": [
    "# check if anagram or not\n",
    "def is_anagram(s1, s2):\n",
    "    # count length of s1\n",
    "    count1 = 0\n",
    "    for _ in s1:\n",
    "        count1 += 1\n",
    "\n",
    "    # count length of s2\n",
    "    count2 = 0\n",
    "    for _ in s2:\n",
    "        count2 += 1\n",
    "\n",
    "    # if lengths are not equal → not anagram\n",
    "    if count1 != count2:\n",
    "        return False\n",
    "\n",
    "    # check characters\n",
    "    for i in s1:\n",
    "        match = False\n",
    "        for c in s2:\n",
    "            if i == c:\n",
    "                match = True\n",
    "                break\n",
    "        if not match:\n",
    "            return False\n",
    "\n",
    "    return True\n",
    "\n",
    "\n",
    "# Test\n",
    "print(is_anagram(\"listen\", \"silent\"))   # True\n",
    "print(is_anagram(\"hello\", \"python\"))    # False\n",
    "print(is_anagram(\"care\", \"race\"))       # True"
   ]
  },
  {
   "cell_type": "code",
   "execution_count": 27,
   "id": "000addc9-698f-487b-97cd-4de01874fc77",
   "metadata": {},
   "outputs": [
    {
     "name": "stdout",
     "output_type": "stream",
     "text": [
      "True\n",
      "False\n",
      "True\n"
     ]
    }
   ],
   "source": [
    "##anagram simple way\n",
    "def is_anagram(s1, s2):\n",
    "    c1 = c2= 0\n",
    "    for _ in s1: c1 += 1\n",
    "    for _ in s2: c2 += 1\n",
    "    if c1 != c2: return False\n",
    "    for i in s1:\n",
    "        f = 0\n",
    "    for j in s2:\n",
    "        if i == j: f = 1; \n",
    "        break\n",
    "        if f == 0: return False\n",
    "    return True\n",
    "print(is_anagram(\"listen\", \"silent\"))\n",
    "print(is_anagram(\"hello\", \"python\"))\n",
    "print(is_anagram(\"heart\", \"earth\"))\n",
    "     "
   ]
  },
  {
   "cell_type": "code",
   "execution_count": null,
   "id": "aa9099b2-d61f-4d11-b6a3-88b018789501",
   "metadata": {},
   "outputs": [],
   "source": []
  }
 ],
 "metadata": {
  "kernelspec": {
   "display_name": "Python 3 (ipykernel)",
   "language": "python",
   "name": "python3"
  },
  "language_info": {
   "codemirror_mode": {
    "name": "ipython",
    "version": 3
   },
   "file_extension": ".py",
   "mimetype": "text/x-python",
   "name": "python",
   "nbconvert_exporter": "python",
   "pygments_lexer": "ipython3",
   "version": "3.13.5"
  }
 },
 "nbformat": 4,
 "nbformat_minor": 5
}
