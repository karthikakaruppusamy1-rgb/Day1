{
 "cells": [
  {
   "cell_type": "code",
   "execution_count": 1,
   "id": "4e442a36-236a-4447-8541-c2df9392ecdc",
   "metadata": {},
   "outputs": [
    {
     "name": "stdin",
     "output_type": "stream",
     "text": [
      "Enter a number: 10\n"
     ]
    },
    {
     "name": "stdout",
     "output_type": "stream",
     "text": [
      "1 + 9\n",
      "2 + 8\n",
      "3 + 7\n",
      "4 + 6\n",
      "5 + 5\n",
      "6 + 4\n",
      "7 + 3\n",
      "8 + 2\n",
      "9 + 1\n"
     ]
    }
   ],
   "source": [
    "k = int(input(\"Enter a number:\"))\n",
    "i = 1\n",
    "while i < k:\n",
    "    print(i, \"+\", (k-i))\n",
    "    i = i+1"
   ]
  },
  {
   "cell_type": "code",
   "execution_count": 3,
   "id": "b56d01d0-1577-4021-9a6a-5bfb6c1cf21d",
   "metadata": {},
   "outputs": [
    {
     "name": "stdout",
     "output_type": "stream",
     "text": [
      "how how are you\n"
     ]
    }
   ],
   "source": [
    "##function\n",
    "def function1():\n",
    "    print(\"how how are you\")\n",
    "function1()"
   ]
  },
  {
   "cell_type": "code",
   "execution_count": 5,
   "id": "edebab81-20ca-4b12-8338-70591a7342c7",
   "metadata": {},
   "outputs": [
    {
     "name": "stdin",
     "output_type": "stream",
     "text": [
      "enter your number: 5\n",
      "enter your number: 5\n"
     ]
    },
    {
     "name": "stdout",
     "output_type": "stream",
     "text": [
      "10\n"
     ]
    }
   ],
   "source": [
    "##argument, static, dynamic, global variable\n",
    "def add(a,b):\n",
    "    c=a+b\n",
    "    print(c)\n",
    "a=int(input(\"enter your number:\"))\n",
    "b=int(input(\"enter your number:\"))\n",
    "add(a,b)\n"
   ]
  },
  {
   "cell_type": "code",
   "execution_count": null,
   "id": "b77b9530-213c-44a2-8a42-cb938bbe99c0",
   "metadata": {},
   "outputs": [],
   "source": []
  }
 ],
 "metadata": {
  "kernelspec": {
   "display_name": "Python 3 (ipykernel)",
   "language": "python",
   "name": "python3"
  },
  "language_info": {
   "codemirror_mode": {
    "name": "ipython",
    "version": 3
   },
   "file_extension": ".py",
   "mimetype": "text/x-python",
   "name": "python",
   "nbconvert_exporter": "python",
   "pygments_lexer": "ipython3",
   "version": "3.13.5"
  }
 },
 "nbformat": 4,
 "nbformat_minor": 5
}
