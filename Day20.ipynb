{
 "cells": [
  {
   "cell_type": "code",
   "execution_count": 2,
   "id": "6a120f12-b44f-458a-b221-1159c6ac34ca",
   "metadata": {},
   "outputs": [
    {
     "name": "stdout",
     "output_type": "stream",
     "text": [
      "Number of letters: 13\n"
     ]
    }
   ],
   "source": [
    "##How many letters are there and split \n",
    "k = \"   Hello,Welcome!   \"\n",
    "letters = k.strip().replace(\",\", \"\")   \n",
    "print(\"Number of letters:\", len(letters))\n"
   ]
  },
  {
   "cell_type": "code",
   "execution_count": null,
   "id": "7ec0f535-7de7-4fca-ab18-75f8a0dbc3b2",
   "metadata": {},
   "outputs": [],
   "source": []
  }
 ],
 "metadata": {
  "kernelspec": {
   "display_name": "Python 3 (ipykernel)",
   "language": "python",
   "name": "python3"
  },
  "language_info": {
   "codemirror_mode": {
    "name": "ipython",
    "version": 3
   },
   "file_extension": ".py",
   "mimetype": "text/x-python",
   "name": "python",
   "nbconvert_exporter": "python",
   "pygments_lexer": "ipython3",
   "version": "3.13.5"
  }
 },
 "nbformat": 4,
 "nbformat_minor": 5
}
