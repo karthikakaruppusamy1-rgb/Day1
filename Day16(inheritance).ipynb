{
 "cells": [
  {
   "cell_type": "code",
   "execution_count": 2,
   "id": "568fb57f-ef6b-4eda-bb25-e789fc710095",
   "metadata": {},
   "outputs": [
    {
     "name": "stdout",
     "output_type": "stream",
     "text": [
      "algappa university\n",
      "msn college\n",
      "physics\n"
     ]
    }
   ],
   "source": [
    "##single inheritance\n",
    "class university:\n",
    "    print(\"algappa university\")\n",
    "\n",
    "class college:\n",
    "    print(\"msn college\")\n",
    "\n",
    "class department:\n",
    "    print(\"physics\")\n",
    "\n",
    "obj1 = university()\n",
    "obj2 = college()\n",
    "obj3 = department()"
   ]
  },
  {
   "cell_type": "code",
   "execution_count": 3,
   "id": "7032d1a7-cf65-4ad2-81a0-8a721669c1a8",
   "metadata": {},
   "outputs": [
    {
     "name": "stdout",
     "output_type": "stream",
     "text": [
      "alagappa\n",
      "msn\n",
      "physics\n"
     ]
    }
   ],
   "source": [
    "##multilevel inheritance\n",
    "class university:\n",
    "    print(\"alagappa\")\n",
    "\n",
    "class university(college):\n",
    "    print(\"msn\")\n",
    "\n",
    "class department(university):\n",
    "    print(\"physics\")\n",
    "\n",
    "obj = department"
   ]
  },
  {
   "cell_type": "code",
   "execution_count": 8,
   "id": "2ed1689f-c5dd-49fe-886e-e6f4a363cc76",
   "metadata": {},
   "outputs": [
    {
     "name": "stdout",
     "output_type": "stream",
     "text": [
      "alagappa\n",
      "msn\n",
      "physic\n",
      "22uph007\n",
      "student details\n"
     ]
    }
   ],
   "source": [
    "##multiple\n",
    "class university:\n",
    "    print(\"alagappa\")\n",
    "\n",
    "class college:\n",
    "    print(\"msn\")\n",
    "\n",
    "class department:\n",
    "    print(\"physic\")\n",
    "\n",
    "class stu_id:\n",
    "    print(\"22uph007\")\n",
    "\n",
    "class details(university, college, department, stu_id):\n",
    "    print(\"student details\")\n",
    "\n",
    "obj = details\n"
   ]
  },
  {
   "cell_type": "code",
   "execution_count": 4,
   "id": "fd6345ed-4d5e-43b7-b5e6-812ad859119b",
   "metadata": {},
   "outputs": [
    {
     "name": "stdout",
     "output_type": "stream",
     "text": [
      "msn\n",
      "physics\n",
      "22uph007\n",
      "alagappa\n"
     ]
    }
   ],
   "source": [
    "##hierarchy\n",
    "class university:\n",
    "    def show(self):\n",
    "        print(\"alagappa\")\n",
    "\n",
    "class college(university):\n",
    "    print(\"msn\")\n",
    "\n",
    "class department(university):\n",
    "    print(\"physics\")\n",
    "\n",
    "class reg_id(university):\n",
    "    print(\"22uph007\")\n",
    "    \n",
    "obj1.show()\n",
    "obj1 = reg_id()"
   ]
  },
  {
   "cell_type": "code",
   "execution_count": 1,
   "id": "22f6e86e-0ff1-4bd1-b56c-1b01e729f1c7",
   "metadata": {},
   "outputs": [
    {
     "name": "stdout",
     "output_type": "stream",
     "text": [
      "alagappa\n",
      "msn\n",
      "physic\n",
      "22uph007\n"
     ]
    }
   ],
   "source": [
    "##hybrid\n",
    "class university:\n",
    "    print(\"alagappa\")\n",
    "\n",
    "class college(university):\n",
    "    print(\"msn\")\n",
    "\n",
    "class department(university):\n",
    "    print(\"physic\")\n",
    "\n",
    "class stu_id(college, department):\n",
    "    print(\"22uph007\")\n",
    "\n",
    "obj = stu_id\n"
   ]
  },
  {
   "cell_type": "code",
   "execution_count": null,
   "id": "a038f2ea-6a10-48fa-a208-e9e7b1c68ec8",
   "metadata": {},
   "outputs": [],
   "source": []
  }
 ],
 "metadata": {
  "kernelspec": {
   "display_name": "Python 3 (ipykernel)",
   "language": "python",
   "name": "python3"
  },
  "language_info": {
   "codemirror_mode": {
    "name": "ipython",
    "version": 3
   },
   "file_extension": ".py",
   "mimetype": "text/x-python",
   "name": "python",
   "nbconvert_exporter": "python",
   "pygments_lexer": "ipython3",
   "version": "3.13.5"
  }
 },
 "nbformat": 4,
 "nbformat_minor": 5
}
