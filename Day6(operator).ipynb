{
 "cells": [
  {
   "cell_type": "code",
   "execution_count": 3,
   "id": "b5500ea0-7658-4c4d-8c2a-fd7c16abfaac",
   "metadata": {},
   "outputs": [
    {
     "name": "stdout",
     "output_type": "stream",
     "text": [
      "False\n",
      "True\n",
      "True\n"
     ]
    }
   ],
   "source": [
    "##identity operator\n",
    "a=[1,2,3]\n",
    "b=[1,2,3]\n",
    "c=a\n",
    "print(a is b)\n",
    "print(a is c)\n",
    "print(a==b)"
   ]
  },
  {
   "cell_type": "code",
   "execution_count": 6,
   "id": "a43bbe45-b344-4d72-8911-0b07a0a9d829",
   "metadata": {},
   "outputs": [
    {
     "name": "stdout",
     "output_type": "stream",
     "text": [
      "True\n"
     ]
    }
   ],
   "source": [
    "a=256\n",
    "b=256\n",
    "print(a is b)\n",
    "#print(a is not b)"
   ]
  },
  {
   "cell_type": "code",
   "execution_count": 8,
   "id": "49292846-51e0-4a37-bdd0-128b71f76ea4",
   "metadata": {},
   "outputs": [
    {
     "name": "stdout",
     "output_type": "stream",
     "text": [
      "False\n"
     ]
    }
   ],
   "source": [
    "a=258\n",
    "b=258\n",
    "print(a is b)\n",
    "#print(a is not a)"
   ]
  },
  {
   "cell_type": "code",
   "execution_count": 9,
   "id": "3d1b60ca-3620-4b2d-b282-e3645b56b3d1",
   "metadata": {},
   "outputs": [
    {
     "data": {
      "text/plain": [
       "True"
      ]
     },
     "execution_count": 9,
     "metadata": {},
     "output_type": "execute_result"
    }
   ],
   "source": [
    "a=\"welcome\"\n",
    "b=\"python\"\n",
    "a is not b"
   ]
  },
  {
   "cell_type": "code",
   "execution_count": 11,
   "id": "18640990-b705-44f5-bd4e-de651b570493",
   "metadata": {},
   "outputs": [
    {
     "data": {
      "text/plain": [
       "False"
      ]
     },
     "execution_count": 11,
     "metadata": {},
     "output_type": "execute_result"
    }
   ],
   "source": [
    "a=\"hii\"\n",
    "b=\"welcome\"\n",
    "a is b"
   ]
  },
  {
   "cell_type": "code",
   "execution_count": 13,
   "id": "7988c98b-d619-47b6-a14f-9b0a7e7cc885",
   "metadata": {},
   "outputs": [
    {
     "name": "stdout",
     "output_type": "stream",
     "text": [
      "False\n"
     ]
    }
   ],
   "source": [
    "##membership operator\n",
    "a=\"hii how are you\"\n",
    "print(\"a\" not in a)"
   ]
  },
  {
   "cell_type": "code",
   "execution_count": 14,
   "id": "2672eb25-ad3d-4860-9de5-4cf58d2158c8",
   "metadata": {},
   "outputs": [
    {
     "name": "stdout",
     "output_type": "stream",
     "text": [
      "True\n"
     ]
    }
   ],
   "source": [
    "a=\"hii how are you\"\n",
    "print(\"y\" in a)"
   ]
  },
  {
   "cell_type": "code",
   "execution_count": 15,
   "id": "31b77e41-7c1b-4f79-9e8e-555c73a0ad7f",
   "metadata": {},
   "outputs": [
    {
     "data": {
      "text/plain": [
       "True"
      ]
     },
     "execution_count": 15,
     "metadata": {},
     "output_type": "execute_result"
    }
   ],
   "source": [
    "a=(2,4,6,8)\n",
    "6 in a"
   ]
  },
  {
   "cell_type": "code",
   "execution_count": 18,
   "id": "fc2bcb20-e53e-400f-b157-f21f222a20fd",
   "metadata": {},
   "outputs": [
    {
     "name": "stdout",
     "output_type": "stream",
     "text": [
      "15\n"
     ]
    }
   ],
   "source": [
    "##bitwise operator\n",
    "print(13|15)"
   ]
  },
  {
   "cell_type": "code",
   "execution_count": 22,
   "id": "2c97e213-fa61-4d39-9ba2-439595479095",
   "metadata": {},
   "outputs": [
    {
     "name": "stdout",
     "output_type": "stream",
     "text": [
      "0b1101\n",
      "0b1111\n"
     ]
    }
   ],
   "source": [
    "a=13\n",
    "b=15\n",
    "c=bin(a)\n",
    "print(c)\n",
    "d=bin(b)\n",
    "print(d)\n",
    "#print(a|b)"
   ]
  },
  {
   "cell_type": "code",
   "execution_count": 21,
   "id": "216a614e-06f9-4be9-8b80-7db0577ba083",
   "metadata": {},
   "outputs": [
    {
     "name": "stdout",
     "output_type": "stream",
     "text": [
      "0\n"
     ]
    }
   ],
   "source": [
    "print(8 & 3)"
   ]
  },
  {
   "cell_type": "code",
   "execution_count": 24,
   "id": "d3463310-2e33-4e09-ade5-1f581d9a5df0",
   "metadata": {},
   "outputs": [
    {
     "name": "stdout",
     "output_type": "stream",
     "text": [
      "0b1000\n",
      "0b11\n",
      "0\n"
     ]
    }
   ],
   "source": [
    "a=8\n",
    "b=3\n",
    "c=bin(a)\n",
    "c\n",
    "d=bin(b)\n",
    "print(c)\n",
    "print(d)\n",
    "print(a&b)"
   ]
  },
  {
   "cell_type": "code",
   "execution_count": 25,
   "id": "525fa948-a1aa-4ccc-9635-5e174bc8a308",
   "metadata": {},
   "outputs": [
    {
     "name": "stdout",
     "output_type": "stream",
     "text": [
      "11\n"
     ]
    }
   ],
   "source": [
    "##bitwise XOR\n",
    "##both one zero both zero zero\n",
    "print(8 ^ 3)"
   ]
  },
  {
   "cell_type": "code",
   "execution_count": 26,
   "id": "ef9e295c-fd2a-4667-a4b6-06332b259753",
   "metadata": {},
   "outputs": [
    {
     "name": "stdout",
     "output_type": "stream",
     "text": [
      "-5\n"
     ]
    }
   ],
   "source": [
    "print(~4)"
   ]
  },
  {
   "cell_type": "code",
   "execution_count": 27,
   "id": "91f39114-2b1c-4146-904e-a18ce96e5d03",
   "metadata": {},
   "outputs": [
    {
     "name": "stdout",
     "output_type": "stream",
     "text": [
      "16\n"
     ]
    }
   ],
   "source": [
    "print(4<<2)\n",
    "#4="
   ]
  },
  {
   "cell_type": "code",
   "execution_count": null,
   "id": "f1cbc883-b98b-44c2-b8c7-148ff46fa1d2",
   "metadata": {},
   "outputs": [],
   "source": []
  }
 ],
 "metadata": {
  "kernelspec": {
   "display_name": "Python 3 (ipykernel)",
   "language": "python",
   "name": "python3"
  },
  "language_info": {
   "codemirror_mode": {
    "name": "ipython",
    "version": 3
   },
   "file_extension": ".py",
   "mimetype": "text/x-python",
   "name": "python",
   "nbconvert_exporter": "python",
   "pygments_lexer": "ipython3",
   "version": "3.13.5"
  }
 },
 "nbformat": 4,
 "nbformat_minor": 5
}
