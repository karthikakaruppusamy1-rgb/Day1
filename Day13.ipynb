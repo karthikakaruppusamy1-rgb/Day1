{
 "cells": [
  {
   "cell_type": "code",
   "execution_count": 21,
   "id": "efaa6412-cf38-48ae-8704-159eecf94aed",
   "metadata": {},
   "outputs": [
    {
     "data": {
      "text/plain": [
       "'welcome'"
      ]
     },
     "execution_count": 21,
     "metadata": {},
     "output_type": "execute_result"
    }
   ],
   "source": [
    "f = open(\"pythoncheck.txt\", \"r\")\n",
    "f.read()"
   ]
  },
  {
   "cell_type": "code",
   "execution_count": 48,
   "id": "9ea96a7d-0614-42de-9322-8665920da576",
   "metadata": {},
   "outputs": [
    {
     "data": {
      "text/plain": [
       "19"
      ]
     },
     "execution_count": 48,
     "metadata": {},
     "output_type": "execute_result"
    }
   ],
   "source": [
    "f = open(\"pythoncheck.txt\", \"w\")\n",
    "f.write(\"welcome to my world\")"
   ]
  },
  {
   "cell_type": "code",
   "execution_count": 46,
   "id": "fb8e26bd-5979-40db-a03f-1445705a02b6",
   "metadata": {},
   "outputs": [
    {
     "data": {
      "text/plain": [
       "8"
      ]
     },
     "execution_count": 46,
     "metadata": {},
     "output_type": "execute_result"
    }
   ],
   "source": [
    "f = open(\"pythoncheck.txt\", \"a\")\n",
    "f.write(\"thats ok\")"
   ]
  },
  {
   "cell_type": "code",
   "execution_count": 40,
   "id": "b98797ea-f2e5-49b8-b968-0919d34339b2",
   "metadata": {},
   "outputs": [
    {
     "name": "stdout",
     "output_type": "stream",
     "text": [
      "welcomethats ok"
     ]
    }
   ],
   "source": [
    "f = open(\"pythoncheck.txt\", \"r\")\n",
    "\n",
    "for line in f:         \n",
    "    print(line, end=\"\")  \n",
    "\n",
    "f.close()"
   ]
  },
  {
   "cell_type": "code",
   "execution_count": 41,
   "id": "c3374b31-14a4-4a51-9709-873513ff9630",
   "metadata": {},
   "outputs": [
    {
     "name": "stdout",
     "output_type": "stream",
     "text": [
      "welcomethats ok\n"
     ]
    }
   ],
   "source": [
    "f = open(\"pythoncheck.txt\", \"r\")\n",
    "\n",
    "for line in f:         # takes one line at a time\n",
    "    print(line.strip())   # strip() removes the extra newline at the end\n",
    "\n",
    "f.close()"
   ]
  },
  {
   "cell_type": "code",
   "execution_count": 50,
   "id": "6b3c1c35-636e-49db-8dcf-13996034bbf8",
   "metadata": {},
   "outputs": [
    {
     "name": "stdout",
     "output_type": "stream",
     "text": [
      "welcome\n",
      "to\n",
      "my\n",
      "world\n"
     ]
    }
   ],
   "source": [
    "f = open(\"pythoncheck.txt\", \"r\")\n",
    "\n",
    "k = f.read()          \n",
    "words = k.split()     \n",
    "\n",
    "for w in words:      \n",
    "    print(w)\n",
    "\n",
    "f.close()"
   ]
  },
  {
   "cell_type": "code",
   "execution_count": 52,
   "id": "a72d1e31-701e-4ecf-a859-cb38ed07a35d",
   "metadata": {},
   "outputs": [
    {
     "name": "stdout",
     "output_type": "stream",
     "text": [
      "welcome : 1\n",
      "to : 1\n",
      "my : 1\n",
      "world : 1\n"
     ]
    }
   ],
   "source": [
    "f = open(\"pythoncheck.txt\", \"r\")\n",
    "\n",
    "k = f.read()          \n",
    "words = k.split()     \n",
    "\n",
    "count_dict = {}   # empty dictionary to store word counts\n",
    "\n",
    "for w in words:\n",
    "    if w in count_dict:\n",
    "        count_dict[w] += 1   # increase count if word already seen\n",
    "    else:\n",
    "        count_dict[w] = 1    # first time seen\n",
    "\n",
    "for word, count in count_dict.items():\n",
    "    print(word, \":\", count)\n",
    "f.close()"
   ]
  },
  {
   "cell_type": "code",
   "execution_count": 53,
   "id": "333ca503-484a-484a-91fb-49b4fb55cd3b",
   "metadata": {},
   "outputs": [
    {
     "name": "stdout",
     "output_type": "stream",
     "text": [
      "Total characters: 19\n",
      "Total words: 4\n"
     ]
    }
   ],
   "source": [
    "f = open(\"pythoncheck.txt\", \"r\")\n",
    "k = f.read()\n",
    "\n",
    "# total characters\n",
    "total_chars = len(k)\n",
    "\n",
    "# total words\n",
    "total_words = len(k.split())\n",
    "\n",
    "print(\"Total characters:\", total_chars)\n",
    "print(\"Total words:\", total_words)\n",
    "\n",
    "f.close()"
   ]
  },
  {
   "cell_type": "code",
   "execution_count": 3,
   "id": "3ef2b3bd-aaa2-4a9d-821d-f78cf24c117a",
   "metadata": {},
   "outputs": [
    {
     "name": "stdout",
     "output_type": "stream",
     "text": [
      "[6, 8, 10]\n"
     ]
    }
   ],
   "source": [
    "l1 = [2, 3, 4]\n",
    "l2 = [4, 5, 6]\n",
    "\n",
    "result = []\n",
    "for i in range(len(l1)):\n",
    "    result.append(l1[i] + l2[i])\n",
    "\n",
    "print(result)"
   ]
  },
  {
   "cell_type": "code",
   "execution_count": null,
   "id": "4e0221db-7f47-4624-9f4b-3098a0c5ac38",
   "metadata": {},
   "outputs": [],
   "source": []
  }
 ],
 "metadata": {
  "kernelspec": {
   "display_name": "Python 3 (ipykernel)",
   "language": "python",
   "name": "python3"
  },
  "language_info": {
   "codemirror_mode": {
    "name": "ipython",
    "version": 3
   },
   "file_extension": ".py",
   "mimetype": "text/x-python",
   "name": "python",
   "nbconvert_exporter": "python",
   "pygments_lexer": "ipython3",
   "version": "3.13.5"
  }
 },
 "nbformat": 4,
 "nbformat_minor": 5
}
