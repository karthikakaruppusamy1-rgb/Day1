{
 "cells": [
  {
   "cell_type": "code",
   "execution_count": 1,
   "id": "495ecaaa-84f4-4d4b-9e06-d6e8392da385",
   "metadata": {},
   "outputs": [
    {
     "name": "stdout",
     "output_type": "stream",
     "text": [
      "Minimum number: 5\n"
     ]
    }
   ],
   "source": [
    "numbers = [5, 6, 8, 10, 7, 17]\n",
    "\n",
    "# Assume first number is minimum\n",
    "minimum = numbers[0]\n",
    "\n",
    "for num in numbers:\n",
    "    if num < minimum:\n",
    "        minimum = num\n",
    "\n",
    "print(\"Minimum number:\", minimum)"
   ]
  },
  {
   "cell_type": "code",
   "execution_count": 15,
   "id": "86b4e944-b054-4ed7-99d5-1d6842fee3bf",
   "metadata": {},
   "outputs": [
    {
     "name": "stdout",
     "output_type": "stream",
     "text": [
      "Maximum: 17\n",
      "Minimum: 5\n"
     ]
    }
   ],
   "source": [
    "l=[5,6,8,10,7,17]\n",
    "l = [5, 6, 8, 10, 7, 17]\n",
    "\n",
    "maximum = l[0]\n",
    "minimum = l[0]\n",
    "\n",
    "for num in l:\n",
    "    maximum = (maximum + num + abs(maximum - num)) // 2\n",
    "    minimum = (minimum + num - abs(minimum - num)) // 2\n",
    "\n",
    "print(\"Maximum:\", maximum)\n",
    "print(\"Minimum:\", minimum)"
   ]
  },
  {
   "cell_type": "code",
   "execution_count": 10,
   "id": "3b4f99a9-2566-478c-ab46-2367180ea307",
   "metadata": {},
   "outputs": [
    {
     "name": "stdout",
     "output_type": "stream",
     "text": [
      "maximum number: 10\n"
     ]
    }
   ],
   "source": [
    "numbers = [5, 8, 2, 10, 7]\n",
    "maximum = numbers[0]\n",
    "for num in numbers:\n",
    "    if num > maximum:\n",
    "        maximum = num\n",
    "print(\"maximum number:\", maximum)"
   ]
  },
  {
   "cell_type": "code",
   "execution_count": 12,
   "id": "82e89a32-982b-4701-8250-277137cac864",
   "metadata": {},
   "outputs": [
    {
     "name": "stdout",
     "output_type": "stream",
     "text": [
      "Maximum: 10\n",
      "Minimum: 2\n"
     ]
    }
   ],
   "source": [
    "##Both maximum and minimum together\n",
    "numbers = [5, 8, 2, 10, 7]\n",
    "\n",
    "maximum = numbers[0]\n",
    "minimum = numbers[0]\n",
    "\n",
    "for num in numbers:\n",
    "    if num > maximum:\n",
    "        maximum = num\n",
    "    if num < minimum:\n",
    "        minimum = num\n",
    "\n",
    "print(\"Maximum:\", maximum)\n",
    "print(\"Minimum:\", minimum)\n"
   ]
  },
  {
   "cell_type": "code",
   "execution_count": 13,
   "id": "beb511dd-9b6c-41ba-aa53-2303bab23c32",
   "metadata": {},
   "outputs": [
    {
     "name": "stdout",
     "output_type": "stream",
     "text": [
      "Maximum: 10\n",
      "Minimum: 2\n"
     ]
    }
   ],
   "source": [
    "##using a while loop instead of a for\n",
    "numbers = [5, 8, 2, 10, 7]\n",
    "\n",
    "i = 0\n",
    "maximum = numbers[0]\n",
    "minimum = numbers[0]\n",
    "\n",
    "while i < len(numbers):\n",
    "    if numbers[i] > maximum:\n",
    "        maximum = numbers[i]\n",
    "    if numbers[i] < minimum:\n",
    "        minimum = numbers[i]\n",
    "    i += 1\n",
    "\n",
    "print(\"Maximum:\", maximum)\n",
    "print(\"Minimum:\", minimum)\n"
   ]
  },
  {
   "cell_type": "code",
   "execution_count": 14,
   "id": "887aaad6-93f0-4207-baa9-9de96bbfa504",
   "metadata": {},
   "outputs": [
    {
     "name": "stdout",
     "output_type": "stream",
     "text": [
      "10\n",
      "2\n"
     ]
    }
   ],
   "source": [
    "##using keyword\n",
    "numbers = [5, 8, 2, 10, 7]\n",
    "\n",
    "print(max(numbers))  \n",
    "print(min(numbers))  "
   ]
  },
  {
   "cell_type": "code",
   "execution_count": null,
   "id": "876fb971-f44c-435a-81b9-c56d31b17920",
   "metadata": {},
   "outputs": [],
   "source": [
    "##Formulas\n",
    "\n",
    "Maximum of two numbers:\n",
    "\n",
    "max(𝑎,𝑏)=𝑎+𝑏+∣𝑎−𝑏|/∣2\n",
    "\t\n",
    "Minimum of two numbers:\n",
    "\n",
    "min(𝑎,𝑏)=𝑎+𝑏−∣𝑎−𝑏∣2"
   ]
  },
  {
   "cell_type": "code",
   "execution_count": 1,
   "id": "a7d5f92e-5f4b-41f0-9fb5-3e3cd1f41651",
   "metadata": {},
   "outputs": [
    {
     "name": "stdout",
     "output_type": "stream",
     "text": [
      "1\n"
     ]
    }
   ],
   "source": [
    "l=[2,4,5,6,7,1]\n",
    "m=l[0]\n",
    "for i in l:\n",
    "    if m>=i:\n",
    "        m=i\n",
    "print(m);\n",
    "##ascending"
   ]
  },
  {
   "cell_type": "code",
   "execution_count": null,
   "id": "79ea9239-3b23-4078-8c49-32706ae048c3",
   "metadata": {},
   "outputs": [],
   "source": []
  }
 ],
 "metadata": {
  "kernelspec": {
   "display_name": "Python 3 (ipykernel)",
   "language": "python",
   "name": "python3"
  },
  "language_info": {
   "codemirror_mode": {
    "name": "ipython",
    "version": 3
   },
   "file_extension": ".py",
   "mimetype": "text/x-python",
   "name": "python",
   "nbconvert_exporter": "python",
   "pygments_lexer": "ipython3",
   "version": "3.13.5"
  }
 },
 "nbformat": 4,
 "nbformat_minor": 5
}
