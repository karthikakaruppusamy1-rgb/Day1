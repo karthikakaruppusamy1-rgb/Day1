{
 "cells": [
  {
   "cell_type": "code",
   "execution_count": 3,
   "id": "8929074f-6ce4-49b4-ade8-e58ab2fc02af",
   "metadata": {},
   "outputs": [
    {
     "name": "stdout",
     "output_type": "stream",
     "text": [
      "{'a': 1, 'b': 3, 'c': 4}\n"
     ]
    }
   ],
   "source": [
    "##merge two dictionaries \n",
    "\n",
    "dict1 = {\"a\": 1, \"b\": 2}\n",
    "dict2 = {\"b\": 3, \"c\": 4}\n",
    "\n",
    "merged = {**dict1, **dict2}\n",
    "print(merged)\n"
   ]
  },
  {
   "cell_type": "code",
   "execution_count": 5,
   "id": "826c78b5-bd12-4ba5-b883-dc4dfeec650d",
   "metadata": {},
   "outputs": [
    {
     "name": "stdout",
     "output_type": "stream",
     "text": [
      "{'age': 20, 'grade': 'B', 'name': 'Anu'}\n"
     ]
    }
   ],
   "source": [
    "##sort a dictionary by keys\n",
    "\n",
    "student = {\"age\": 20, \"name\": \"Anu\", \"grade\": \"B\"}\n",
    "sorted_dict = dict(sorted(student.items()))\n",
    "\n",
    "print(sorted_dict)\n"
   ]
  },
  {
   "cell_type": "code",
   "execution_count": 8,
   "id": "d8acc2ae-a690-4fba-a270-e859766445a5",
   "metadata": {},
   "outputs": [
    {
     "name": "stdout",
     "output_type": "stream",
     "text": [
      "{'English': 78, 'Math': 88, 'Science': 95}\n"
     ]
    }
   ],
   "source": [
    "##sort a dictionary by values\n",
    "\n",
    "marks = {\"Math\": 88, \"Science\": 95, \"English\": 78}\n",
    "sorted_marks = dict(sorted(marks.items(), key=lambda x: x[1]))\n",
    "\n",
    "print(sorted_marks)\n"
   ]
  },
  {
   "cell_type": "code",
   "execution_count": 23,
   "id": "b511b0f6-77cc-410e-aad0-ca2115388e4f",
   "metadata": {},
   "outputs": [
    {
     "name": "stdout",
     "output_type": "stream",
     "text": [
      "{'apple': 3, 'banana': 2, 'orange': 1}\n"
     ]
    }
   ],
   "source": [
    "##Counting frequency of words in a sentence\n",
    "\n",
    "text = \"apple banana apple orange banana apple\"\n",
    "\n",
    "# Step 1: Split the text into words\n",
    "words = text.split()\n",
    "\n",
    "# Step 2: Create an empty dictionary\n",
    "freq = {}\n",
    "\n",
    "# Step 3: Count each word\n",
    "for word in words:\n",
    "    freq[word] = freq.get(word, 0) + 1\n",
    "\n",
    "# Step 4: Print the frequency dictionary\n",
    "print(freq)\n"
   ]
  },
  {
   "cell_type": "code",
   "execution_count": 13,
   "id": "8e80cb5f-1aff-4ca1-818b-4dab8027b0d8",
   "metadata": {},
   "outputs": [
    {
     "name": "stdout",
     "output_type": "stream",
     "text": [
      "Science : 95\n"
     ]
    }
   ],
   "source": [
    "##maximum value in a dictionary\n",
    "\n",
    "scores = {\"Math\": 88, \"Science\": 95, \"English\": 78}\n",
    "max_subject = max(scores, key=scores.get)\n",
    "\n",
    "print(max_subject, \":\", scores[max_subject])\n"
   ]
  },
  {
   "cell_type": "code",
   "execution_count": 26,
   "id": "d75cd6f2-4cfa-48b3-add5-a2e40762bcdf",
   "metadata": {},
   "outputs": [
    {
     "name": "stdout",
     "output_type": "stream",
     "text": [
      "{'a': 1, 'b': 2, 'd': 3}\n"
     ]
    }
   ],
   "source": [
    "##remove duplicates from a dictionary\n",
    "\n",
    "data = {\"a\": 1, \"b\": 2, \"c\": 2, \"d\": 3}\n",
    "unique = {}\n",
    "for k, v in data.items():\n",
    "    if v not in unique.values():\n",
    "        unique[k] = v\n",
    "        \n",
    "print(unique)\n"
   ]
  },
  {
   "cell_type": "code",
   "execution_count": 27,
   "id": "5f0de461-3c63-4800-a58e-80e413f2b858",
   "metadata": {},
   "outputs": [
    {
     "name": "stdout",
     "output_type": "stream",
     "text": [
      "{'a': 10, 'b': 50, 'c': 40}\n"
     ]
    }
   ],
   "source": [
    "##merge dictionaries and add values\n",
    "\n",
    "dict1 = {\"a\": 10, \"b\": 20}\n",
    "dict2 = {\"b\": 30, \"c\": 40}\n",
    "\n",
    "merged = dict1.copy()\n",
    "for k, v in dict2.items():\n",
    "    merged[k] = merged.get(k, 0) + v\n",
    "    \n",
    "print(merged)\n"
   ]
  },
  {
   "cell_type": "code",
   "execution_count": 16,
   "id": "f9f99f88-174b-4d0c-bf44-ca2d0c306c3a",
   "metadata": {},
   "outputs": [
    {
     "name": "stdout",
     "output_type": "stream",
     "text": [
      "{'name': 'Anu', 'grade': 'A'}\n"
     ]
    }
   ],
   "source": [
    "##delete multiple keys \n",
    "student = {\"name\": \"Anu\", \"age\": 20, \"grade\": \"A\", \"city\": \"Chennai\"}\n",
    "remove_keys = [\"age\", \"city\"]\n",
    "\n",
    "for key in remove_keys:\n",
    "    student.pop(key, None)\n",
    "print(student)\n"
   ]
  },
  {
   "cell_type": "code",
   "execution_count": 18,
   "id": "95727859-c812-49f6-b47f-bd2ad7828875",
   "metadata": {},
   "outputs": [
    {
     "name": "stdout",
     "output_type": "stream",
     "text": [
      "{'name': 'Anu', 'age': 20, 'city': 'Chennai'}\n"
     ]
    }
   ],
   "source": [
    "##convert two lists into a dictionary (zip)\n",
    "keys = [\"name\", \"age\", \"city\"]\n",
    "values = [\"Anu\", 20, \"Chennai\"]\n",
    "\n",
    "my_dict = dict(zip(keys, values))\n",
    "print(my_dict)\n"
   ]
  },
  {
   "cell_type": "code",
   "execution_count": 25,
   "id": "a37929ca-7996-4a4e-927b-0ba5bb0bb4c5",
   "metadata": {},
   "outputs": [
    {
     "name": "stdout",
     "output_type": "stream",
     "text": [
      "{'b', 'c'}\n"
     ]
    }
   ],
   "source": [
    "##10. How to find common keys between two dictionaries?\n",
    "d1 = {\"a\": 1, \"b\": 2, \"c\": 3}\n",
    "d2 = {\"b\": 20, \"c\": 30, \"d\": 40}\n",
    "\n",
    "common = d1.keys() & d2.keys()\n",
    "print(common)\n",
    "##Explanation: & operator finds intersection of keys."
   ]
  },
  {
   "cell_type": "code",
   "execution_count": null,
   "id": "3371bc71-e0a2-4626-9610-ab888b6b0713",
   "metadata": {},
   "outputs": [],
   "source": []
  }
 ],
 "metadata": {
  "kernelspec": {
   "display_name": "Python 3 (ipykernel)",
   "language": "python",
   "name": "python3"
  },
  "language_info": {
   "codemirror_mode": {
    "name": "ipython",
    "version": 3
   },
   "file_extension": ".py",
   "mimetype": "text/x-python",
   "name": "python",
   "nbconvert_exporter": "python",
   "pygments_lexer": "ipython3",
   "version": "3.13.5"
  }
 },
 "nbformat": 4,
 "nbformat_minor": 5
}
