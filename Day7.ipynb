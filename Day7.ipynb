{
 "cells": [
  {
   "cell_type": "code",
   "execution_count": 48,
   "id": "61a89db9-370d-4e97-b65d-7f6d635535d6",
   "metadata": {},
   "outputs": [
    {
     "name": "stdout",
     "output_type": "stream",
     "text": [
      "details not matched\n"
     ]
    }
   ],
   "source": [
    "##nested if\n",
    "skill = \"python\"\n",
    "exp = 1,2\n",
    "native = \"chennai\"\n",
    "work = \"TCS\" and \"wipro\"\n",
    "if  skill == \"python\" and exp == 1 and native == \"chennai\" and work == \"TCS\":\n",
    "    print(\"candidate: python, 1 year exp, from chennai, works in TCS\")\n",
    "elif skill == \"python\" and exp == 2 and native == \"chennai\" and work == \"wipro\":\n",
    "    print(\"candidate: python, 2 years exp, from chennai, works in wipro\")\n",
    "else:\n",
    "    print(\"details not matched\")"
   ]
  },
  {
   "cell_type": "code",
   "execution_count": 57,
   "id": "252fef7b-9a21-44c5-8a68-1a1eeb2225b7",
   "metadata": {},
   "outputs": [
    {
     "name": "stdout",
     "output_type": "stream",
     "text": [
      "candidate is eligible\n"
     ]
    }
   ],
   "source": [
    "##nested if\n",
    "skill = \"java\"\n",
    "exp = 1,2\n",
    "native = \"Coimbatore\"\n",
    "work = \"cog\" and \"Accenture\"\n",
    "if skill == \"java\" and exp == 1 or 2 and native == \"coimbatore\" and work == \"cog\" or \"Accenture\":\n",
    "    print(\"candidate is eligible\")\n",
    "else:\n",
    "    print(\"candidate is not eligibile\")"
   ]
  },
  {
   "cell_type": "code",
   "execution_count": 56,
   "id": "7e63234a-eb0c-48ec-8cde-6a8cbd7075ad",
   "metadata": {},
   "outputs": [
    {
     "name": "stdout",
     "output_type": "stream",
     "text": [
      "candidate is not eligible\n"
     ]
    }
   ],
   "source": [
    "##nested if\n",
    "skill = \"java\"\n",
    "exp = 1,2\n",
    "native = \"chennai\"\n",
    "work = \"Trios\" and \"HCL\"\n",
    "if skill == \"java\" and (exp == 1 and 2) and native == \"chennai\" and (work == \"Trios\" and \"HCL\"):\n",
    "    print(\"candidate is eligible\")\n",
    "else:\n",
    "    print(\"candidate is not eligible\")"
   ]
  },
  {
   "cell_type": "code",
   "execution_count": null,
   "id": "dde34297-2db6-4f08-83e4-699e8dbd437e",
   "metadata": {},
   "outputs": [],
   "source": []
  }
 ],
 "metadata": {
  "kernelspec": {
   "display_name": "Python 3 (ipykernel)",
   "language": "python",
   "name": "python3"
  },
  "language_info": {
   "codemirror_mode": {
    "name": "ipython",
    "version": 3
   },
   "file_extension": ".py",
   "mimetype": "text/x-python",
   "name": "python",
   "nbconvert_exporter": "python",
   "pygments_lexer": "ipython3",
   "version": "3.13.5"
  }
 },
 "nbformat": 4,
 "nbformat_minor": 5
}
