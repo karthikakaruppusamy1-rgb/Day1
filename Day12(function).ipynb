{
 "cells": [
  {
   "cell_type": "code",
   "execution_count": 2,
   "id": "0c7a6cfa-799f-4b51-9ddc-4ef8b0f7b719",
   "metadata": {},
   "outputs": [
    {
     "name": "stdout",
     "output_type": "stream",
     "text": [
      "Addition: 11\n",
      "Subtraction: 6\n",
      "Multiplication: 12\n",
      "Division: 4.0\n",
      "Execution completed\n"
     ]
    }
   ],
   "source": [
    "##using try and except by arithmetic operators\n",
    "def add(a, b):\n",
    "    return a + b\n",
    "\n",
    "def diff(a, b):\n",
    "    return a - b\n",
    "\n",
    "def mul(a, b):\n",
    "    return a * b\n",
    "\n",
    "def div(a, b):\n",
    "    if b == 0:\n",
    "        return \"Error (divide by zero)\"\n",
    "    return a / b\n",
    "\n",
    "try:\n",
    "    p = add(5, 6)             \n",
    "    q = diff(10, 4)           \n",
    "    r = mul(3, 4)          \n",
    "    s = div(8, 2)             \n",
    "\n",
    "    print(\"Addition:\", p)\n",
    "    print(\"Subtraction:\", q)\n",
    "    print(\"Multiplication:\", r)\n",
    "    print(\"Division:\", s)\n",
    "\n",
    "except ZeroDivisionError:\n",
    "    print(\"Error: Cannot divide by zero\")\n",
    "\n",
    "except NameError as e:\n",
    "    print(\"Error:\", e)\n",
    "\n",
    "except Exception as e:\n",
    "    print(\"Something went wrong:\", e)\n",
    "finally:\n",
    "    print(\"Execution completed\")"
   ]
  },
  {
   "cell_type": "code",
   "execution_count": null,
   "id": "099192c5-81fb-41ec-b1e3-f87d72af2d16",
   "metadata": {},
   "outputs": [],
   "source": []
  }
 ],
 "metadata": {
  "kernelspec": {
   "display_name": "Python 3 (ipykernel)",
   "language": "python",
   "name": "python3"
  },
  "language_info": {
   "codemirror_mode": {
    "name": "ipython",
    "version": 3
   },
   "file_extension": ".py",
   "mimetype": "text/x-python",
   "name": "python",
   "nbconvert_exporter": "python",
   "pygments_lexer": "ipython3",
   "version": "3.13.5"
  }
 },
 "nbformat": 4,
 "nbformat_minor": 5
}
