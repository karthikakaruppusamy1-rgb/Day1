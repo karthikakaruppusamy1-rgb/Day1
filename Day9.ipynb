{
 "cells": [
  {
   "cell_type": "code",
   "execution_count": 1,
   "id": "3b46342b-7f68-4576-a4c5-7a26d96ceeca",
   "metadata": {},
   "outputs": [
    {
     "name": "stdout",
     "output_type": "stream",
     "text": [
      "2\n",
      "4\n",
      "46\n",
      "7\n",
      "890\n",
      "91\n"
     ]
    }
   ],
   "source": [
    "k = [1, 3, 45, 6, 889, 90]\n",
    "i=0\n",
    "for i in k:\n",
    "    i+=1\n",
    "    print(i)"
   ]
  },
  {
   "cell_type": "code",
   "execution_count": 2,
   "id": "9270aefb-6c56-4c94-959e-7ead361354c9",
   "metadata": {},
   "outputs": [
    {
     "name": "stdout",
     "output_type": "stream",
     "text": [
      "Index: 0 Value: 1\n",
      "Index: 1 Value: 3\n",
      "Index: 2 Value: 45\n",
      "Index: 3 Value: 6\n",
      "Index: 4 Value: 88\n"
     ]
    }
   ],
   "source": [
    "k = [1, 3, 45, 6, 88]\n",
    "\n",
    "for i in range(5):   # list has 5 elements\n",
    "    print(\"Index:\", i, \"Value:\", k[i])"
   ]
  },
  {
   "cell_type": "code",
   "execution_count": 3,
   "id": "4b5243b2-a866-40b7-9069-295e6dbbc22c",
   "metadata": {},
   "outputs": [
    {
     "name": "stdout",
     "output_type": "stream",
     "text": [
      "1\n",
      "3\n",
      "45\n",
      "6\n",
      "88\n"
     ]
    }
   ],
   "source": [
    "k = [1, 3, 45, 6, 88]\n",
    "\n",
    "for i in range(5):\n",
    "    print(k[i])"
   ]
  },
  {
   "cell_type": "code",
   "execution_count": 6,
   "id": "b1d1afcc-3b70-48dd-949a-80f34ac541b0",
   "metadata": {},
   "outputs": [
    {
     "name": "stdout",
     "output_type": "stream",
     "text": [
      "3\n"
     ]
    }
   ],
   "source": [
    "k = \"hi hello how\"\n",
    "a = \"h\"\n",
    "\n",
    "count = 0\n",
    "for i in k:      # loop through each character\n",
    "    if i == a:\n",
    "        count += 1\n",
    "\n",
    "print(count)"
   ]
  },
  {
   "cell_type": "code",
   "execution_count": null,
   "id": "56b888e0-99d0-4ae6-abf7-88b485d820ef",
   "metadata": {},
   "outputs": [],
   "source": []
  }
 ],
 "metadata": {
  "kernelspec": {
   "display_name": "Python 3 (ipykernel)",
   "language": "python",
   "name": "python3"
  },
  "language_info": {
   "codemirror_mode": {
    "name": "ipython",
    "version": 3
   },
   "file_extension": ".py",
   "mimetype": "text/x-python",
   "name": "python",
   "nbconvert_exporter": "python",
   "pygments_lexer": "ipython3",
   "version": "3.13.5"
  }
 },
 "nbformat": 4,
 "nbformat_minor": 5
}
