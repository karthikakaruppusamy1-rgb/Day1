{
 "cells": [
  {
   "cell_type": "code",
   "execution_count": null,
   "id": "acfc0117-267b-49f3-b125-88cbbabea78d",
   "metadata": {},
   "outputs": [],
   "source": []
  },
  {
   "cell_type": "code",
   "execution_count": 4,
   "id": "56ab4c34-e3c2-4630-a0e4-23bf708c3825",
   "metadata": {},
   "outputs": [
    {
     "name": "stdout",
     "output_type": "stream",
     "text": [
      "15\n"
     ]
    }
   ],
   "source": [
    "##classes\n",
    "class scl:\n",
    "    def add(self):\n",
    "        a = 6\n",
    "        b = 9\n",
    "        return a+b\n",
    "    def sub(self):\n",
    "        a = 87\n",
    "        b = 45\n",
    "        return a-b\n",
    "cal = scl()\n",
    "k = cal.add()\n",
    "print(k)"
   ]
  },
  {
   "cell_type": "code",
   "execution_count": 5,
   "id": "1d6f0cd8-b424-4d7f-b063-7adec8c89fa4",
   "metadata": {},
   "outputs": [
    {
     "name": "stdout",
     "output_type": "stream",
     "text": [
      "42\n"
     ]
    }
   ],
   "source": [
    "k = cal.sub()\n",
    "print(k)"
   ]
  },
  {
   "cell_type": "code",
   "execution_count": 10,
   "id": "d48dedf9-27ce-4283-92b7-e4ea0735e08b",
   "metadata": {},
   "outputs": [
    {
     "name": "stdout",
     "output_type": "stream",
     "text": [
      "15\n",
      "None\n"
     ]
    }
   ],
   "source": [
    "class scl:\n",
    "    def add(self):\n",
    "        a = 6\n",
    "        b = 9\n",
    "        print(a+b)\n",
    "    def sub(self):\n",
    "        a = 87\n",
    "        b = 45\n",
    "        print(a-b)\n",
    "cal = scl()\n",
    "k = cal.add()\n",
    "print(k)"
   ]
  },
  {
   "cell_type": "code",
   "execution_count": null,
   "id": "8e246c3e-b52b-4929-88fb-6322f98726b6",
   "metadata": {},
   "outputs": [],
   "source": [
    "\n"
   ]
  }
 ],
 "metadata": {
  "kernelspec": {
   "display_name": "Python 3 (ipykernel)",
   "language": "python",
   "name": "python3"
  },
  "language_info": {
   "codemirror_mode": {
    "name": "ipython",
    "version": 3
   },
   "file_extension": ".py",
   "mimetype": "text/x-python",
   "name": "python",
   "nbconvert_exporter": "python",
   "pygments_lexer": "ipython3",
   "version": "3.13.5"
  }
 },
 "nbformat": 4,
 "nbformat_minor": 5
}
