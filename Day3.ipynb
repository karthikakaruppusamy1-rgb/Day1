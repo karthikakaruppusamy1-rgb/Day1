{
 "cells": [
  {
   "cell_type": "code",
   "execution_count": 4,
   "id": "de90e46d-cbd6-45dc-8c1c-e0266d790055",
   "metadata": {},
   "outputs": [
    {
     "name": "stdout",
     "output_type": "stream",
     "text": [
      "<class 'str'>\n"
     ]
    }
   ],
   "source": [
    "#Data types\n",
    "##string\n",
    "a=\"@#$%^956@#$%^\"\n",
    "print(type(a))"
   ]
  },
  {
   "cell_type": "code",
   "execution_count": 5,
   "id": "388a269a-e733-4a46-aee5-90fc5b754f6e",
   "metadata": {},
   "outputs": [
    {
     "name": "stdout",
     "output_type": "stream",
     "text": [
      "<class 'int'>\n"
     ]
    }
   ],
   "source": [
    "#numeric type\n",
    "##integer\n",
    "a=6\n",
    "print(type(a))"
   ]
  },
  {
   "cell_type": "code",
   "execution_count": 6,
   "id": "a6bd4ce8-dfca-45c5-b3ed-4ed783caa1d9",
   "metadata": {},
   "outputs": [
    {
     "name": "stdout",
     "output_type": "stream",
     "text": [
      "<class 'float'>\n"
     ]
    }
   ],
   "source": [
    "##float\n",
    "a=2.14\n",
    "print(type(a))"
   ]
  },
  {
   "cell_type": "code",
   "execution_count": 7,
   "id": "2de041d4-82a8-46e6-bb5a-2c4fa7d656af",
   "metadata": {},
   "outputs": [
    {
     "name": "stdout",
     "output_type": "stream",
     "text": [
      "<class 'complex'>\n"
     ]
    }
   ],
   "source": [
    "##complex\n",
    "a=1+6j\n",
    "print(type(a))"
   ]
  },
  {
   "cell_type": "code",
   "execution_count": 2,
   "id": "eea9e18d-60fd-4c9b-9b12-cd584969d56b",
   "metadata": {},
   "outputs": [],
   "source": [
    "#casting\n",
    "k=6"
   ]
  },
  {
   "cell_type": "markdown",
   "id": "313d266c-b432-4f92-a682-3d3f1b949644",
   "metadata": {},
   "source": [
    "###### "
   ]
  },
  {
   "cell_type": "code",
   "execution_count": 13,
   "id": "bbddb337-6168-409d-b9c6-e19a14d56c5a",
   "metadata": {},
   "outputs": [
    {
     "data": {
      "text/plain": [
       "6.0"
      ]
     },
     "execution_count": 13,
     "metadata": {},
     "output_type": "execute_result"
    }
   ],
   "source": [
    "a=float(6)\n",
    "a"
   ]
  },
  {
   "cell_type": "code",
   "execution_count": 14,
   "id": "d2fe7d0c-3969-442b-90d9-ae90e93917d2",
   "metadata": {},
   "outputs": [
    {
     "data": {
      "text/plain": [
       "(6+0j)"
      ]
     },
     "execution_count": 14,
     "metadata": {},
     "output_type": "execute_result"
    }
   ],
   "source": [
    "a=complex(6)\n",
    "a"
   ]
  },
  {
   "cell_type": "code",
   "execution_count": 15,
   "id": "f40cd029-a698-419e-b75b-c9e18bd29a6a",
   "metadata": {},
   "outputs": [
    {
     "name": "stdout",
     "output_type": "stream",
     "text": [
      "6\n"
     ]
    }
   ],
   "source": [
    "a=str(6)\n",
    "print(str(6))"
   ]
  },
  {
   "cell_type": "code",
   "execution_count": 17,
   "id": "e4817c1d-ff3d-428a-804f-057466dac142",
   "metadata": {},
   "outputs": [
    {
     "name": "stdout",
     "output_type": "stream",
     "text": [
      "1.0\n",
      "45.0\n"
     ]
    }
   ],
   "source": [
    "a=1+45j\n",
    "print(a.real)\n",
    "print(a.imag)"
   ]
  },
  {
   "cell_type": "code",
   "execution_count": 19,
   "id": "29b67066-c7e5-43af-9aa0-6a417e618571",
   "metadata": {},
   "outputs": [
    {
     "name": "stdout",
     "output_type": "stream",
     "text": [
      "6\n",
      "6.7\n",
      "(6.7+0j)\n"
     ]
    }
   ],
   "source": [
    "a=6.7\n",
    "a1=int(a)\n",
    "a2=str(a)\n",
    "a3=complex(a)\n",
    "print(a1)\n",
    "print(a2)\n",
    "print(a3)"
   ]
  },
  {
   "cell_type": "code",
   "execution_count": 20,
   "id": "840cd750-3cd3-4c82-af4c-6d51ff98a722",
   "metadata": {},
   "outputs": [
    {
     "name": "stdin",
     "output_type": "stream",
     "text": [
      "enter the number 67\n"
     ]
    },
    {
     "name": "stdout",
     "output_type": "stream",
     "text": [
      "<class 'float'>\n",
      "67.0\n"
     ]
    }
   ],
   "source": [
    "a=float(input(\"enter the number\"))\n",
    "print(type(a))\n",
    "print(a)"
   ]
  }
 ],
 "metadata": {
  "kernelspec": {
   "display_name": "Python 3 (ipykernel)",
   "language": "python",
   "name": "python3"
  },
  "language_info": {
   "codemirror_mode": {
    "name": "ipython",
    "version": 3
   },
   "file_extension": ".py",
   "mimetype": "text/x-python",
   "name": "python",
   "nbconvert_exporter": "python",
   "pygments_lexer": "ipython3",
   "version": "3.13.5"
  }
 },
 "nbformat": 4,
 "nbformat_minor": 5
}
