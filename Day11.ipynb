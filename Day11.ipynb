{
 "cells": [
  {
   "cell_type": "code",
   "execution_count": 11,
   "id": "b8aa605b-da05-4f77-9bb1-c728dee831c5",
   "metadata": {},
   "outputs": [
    {
     "name": "stdout",
     "output_type": "stream",
     "text": [
      "True\n"
     ]
    }
   ],
   "source": [
    "##palindrome\n",
    "def is_palindrome(x):\n",
    "    if x == x[::-1]:\n",
    "        print(\"True\")\n",
    "    else:\n",
    "        print(\"False\")\n",
    "   \n",
    "is_palindrome(\"madam\")\n"
   ]
  },
  {
   "cell_type": "code",
   "execution_count": 13,
   "id": "e1d48d93-7631-4cc4-8c7d-9a130fadb899",
   "metadata": {},
   "outputs": [
    {
     "name": "stdout",
     "output_type": "stream",
     "text": [
      "11\n"
     ]
    }
   ],
   "source": [
    "def add(a,b):\n",
    "    c=a+b\n",
    "    return c\n",
    "k = add(5,6)\n",
    "print(k)"
   ]
  },
  {
   "cell_type": "code",
   "execution_count": 28,
   "id": "97fccc4e-a25a-434a-8dec-d00bd77809c5",
   "metadata": {},
   "outputs": [
    {
     "name": "stdout",
     "output_type": "stream",
     "text": [
      "addition: 11\n",
      "subtraction: -4\n",
      "multiplication: -44\n"
     ]
    }
   ],
   "source": [
    "def add(a1, a2):\n",
    "    sum1 = a1+a2\n",
    "    return sum1\n",
    "def diff(a1, a2):\n",
    "    diff = a1-a2\n",
    "    return diff\n",
    "\n",
    "a1 = add(5,6)\n",
    "a2 = diff(4,8)\n",
    "result = a1 * a2\n",
    "print(\"addition:\", a1)\n",
    "print(\"subtraction:\", a2)\n",
    "print(\"multiplication:\", result)"
   ]
  },
  {
   "cell_type": "code",
   "execution_count": 35,
   "id": "68175365-613b-4ff8-b6b3-949ecb9bc2e6",
   "metadata": {},
   "outputs": [
    {
     "name": "stdout",
     "output_type": "stream",
     "text": [
      "0.625\n"
     ]
    }
   ],
   "source": [
    "try:\n",
    "    a=5\n",
    "    b=8\n",
    "    print(a/b)\n",
    "except NameError:\n",
    "    print(\"name error\")\n",
    "except Exception as e:\n",
    "    print(e)"
   ]
  },
  {
   "cell_type": "code",
   "execution_count": 34,
   "id": "baa3ded5-fd0e-4686-8ee8-fe655fd99b37",
   "metadata": {},
   "outputs": [
    {
     "name": "stdout",
     "output_type": "stream",
     "text": [
      "division by zero\n"
     ]
    }
   ],
   "source": [
    "try:\n",
    "    a = 5\n",
    "    b = 0\n",
    "    print(a / b)   \n",
    "except NameError:\n",
    "    print(\"name error\")\n",
    "except Exception as e:\n",
    "    print(e)"
   ]
  },
  {
   "cell_type": "code",
   "execution_count": 37,
   "id": "255c8e32-5d54-4446-a2fe-e2fb44eb6702",
   "metadata": {},
   "outputs": [
    {
     "name": "stdout",
     "output_type": "stream",
     "text": [
      "0.625\n"
     ]
    }
   ],
   "source": [
    "try:\n",
    "    a=5\n",
    "    b=8\n",
    "    print(a/b)\n",
    "except Exception as e:\n",
    "    print(e)"
   ]
  },
  {
   "cell_type": "code",
   "execution_count": 39,
   "id": "00f0388f-150b-4b03-a926-049ae744fd34",
   "metadata": {},
   "outputs": [
    {
     "name": "stdout",
     "output_type": "stream",
     "text": [
      "Result: -44\n"
     ]
    }
   ],
   "source": [
    "def calculator():\n",
    "    a = int(input(\"Enter first number: \"))\n",
    "    b = int(input(\"Enter second number: \"))\n",
    "    expr = input(\"Enter expression: \")   \n",
    "    result = eval(expr)   \n",
    "print(\"Result:\", result)\n"
   ]
  },
  {
   "cell_type": "code",
   "execution_count": 4,
   "id": "0be41fcc-c445-43d9-9935-d6173edceaed",
   "metadata": {},
   "outputs": [
    {
     "name": "stdout",
     "output_type": "stream",
     "text": [
      "Variable error: name 'x' is not defined\n"
     ]
    }
   ],
   "source": [
    "def add(a, b):\n",
    "    return a + b\n",
    "\n",
    "def diff(a, b):\n",
    "    return a - b\n",
    "\n",
    "def mul(a, b):\n",
    "    return a * b\n",
    "\n",
    "def div(a, b):\n",
    "    if b == 0:\n",
    "        return \"Error (divide by zero)\"\n",
    "    return a / b\n",
    "\n",
    "try:\n",
    "    p = add(5, 6)           \n",
    "    q = diff(10, 4)         \n",
    "    r = mul(x, y)           \n",
    "    s = div(z, 2)      \n",
    "\n",
    "    print(\"Addition:\", p)\n",
    "    print(\"Subtraction:\", q)\n",
    "    print(\"Multiplication:\", r)\n",
    "    print(\"Division:\", s)\n",
    "\n",
    "except NameError as e:\n",
    "    \n",
    "    print(\"Variable error:\", e)\n",
    "\n",
    "except ZeroDivisionError:\n",
    "    print(\"Error: Cannot divide by zero\")\n",
    "\n",
    "except Exception as e:\n",
    "    print(\"Something went wrong:\", e)"
   ]
  },
  {
   "cell_type": "code",
   "execution_count": null,
   "id": "a8ead9e2-44e5-4623-b616-ba4b4b924066",
   "metadata": {},
   "outputs": [],
   "source": []
  }
 ],
 "metadata": {
  "kernelspec": {
   "display_name": "Python 3 (ipykernel)",
   "language": "python",
   "name": "python3"
  },
  "language_info": {
   "codemirror_mode": {
    "name": "ipython",
    "version": 3
   },
   "file_extension": ".py",
   "mimetype": "text/x-python",
   "name": "python",
   "nbconvert_exporter": "python",
   "pygments_lexer": "ipython3",
   "version": "3.13.5"
  }
 },
 "nbformat": 4,
 "nbformat_minor": 5
}
