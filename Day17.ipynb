{
 "cells": [
  {
   "cell_type": "code",
   "execution_count": null,
   "id": "1a1d33aa-a570-4ebb-96d4-435003c83a49",
   "metadata": {},
   "outputs": [],
   "source": [
    "##mark = {\"Tamil\", 90, \"English\", 95, \"Maths\", 91}\n",
    "##init using with calculator\n",
    "##add update delete"
   ]
  },
  {
   "cell_type": "code",
   "execution_count": 8,
   "id": "ffa9fe7f-b0ce-48ac-811d-8b51c14a5bc9",
   "metadata": {},
   "outputs": [
    {
     "name": "stdin",
     "output_type": "stream",
     "text": [
      "enter first number: 43\n",
      "enter second number: 2\n"
     ]
    },
    {
     "name": "stdout",
     "output_type": "stream",
     "text": [
      "addition: 45\n",
      "subtraction: 41\n",
      "multiplication: 1845\n",
      "division: 41.0\n"
     ]
    }
   ],
   "source": [
    "##init using with calculator\n",
    "class calculator:\n",
    "    def __init__(self, a, b):\n",
    "        self.a = a\n",
    "        self.b = b\n",
    "\n",
    "    def process(self):\n",
    "        add_result = self.a + self.b\n",
    "        sub_result = self.a - self.b\n",
    "        mul_result = add_result * sub_result\n",
    "        div_result = mul_result / add_result\n",
    "        return add_result, sub_result, mul_result, div_result\n",
    "\n",
    "x = int(input(\"enter first number:\"))\n",
    "y = int(input(\"enter second number:\"))\n",
    "\n",
    "c = calculator(x, y)\n",
    "add_ans, sub_ans, mul_ans, div_ans = c.process()\n",
    "\n",
    "print(\"addition:\", add_ans)\n",
    "print(\"subtraction:\", sub_ans)\n",
    "print(\"multiplication:\", mul_ans)\n",
    "print(\"division:\", div_ans)"
   ]
  },
  {
   "cell_type": "code",
   "execution_count": 4,
   "id": "26cb234d-b2de-44c5-8fbb-6f8645419683",
   "metadata": {},
   "outputs": [
    {
     "name": "stdout",
     "output_type": "stream",
     "text": [
      "('English', 95)\n"
     ]
    }
   ],
   "source": [
    "##mark = {\"Tamil\", 90, \"English\", 95, \"Maths\", 91}\n",
    "def highest_mark(marks):\n",
    "    sub =\"\"\n",
    "    val = 0\n",
    "    for x in marks:\n",
    "        if marks[x] > val:\n",
    "            val = marks[x]\n",
    "            sub = x\n",
    "    return sub, val\n",
    "mark = {\"Tamil\": 90, \"English\": 95, \"Maths\": 91}\n",
    "print(highest_mark(mark))\n"
   ]
  },
  {
   "cell_type": "code",
   "execution_count": null,
   "id": "311369a2-1337-415c-8fec-8e638e29e737",
   "metadata": {},
   "outputs": [],
   "source": []
  }
 ],
 "metadata": {
  "kernelspec": {
   "display_name": "Python 3 (ipykernel)",
   "language": "python",
   "name": "python3"
  },
  "language_info": {
   "codemirror_mode": {
    "name": "ipython",
    "version": 3
   },
   "file_extension": ".py",
   "mimetype": "text/x-python",
   "name": "python",
   "nbconvert_exporter": "python",
   "pygments_lexer": "ipython3",
   "version": "3.13.5"
  }
 },
 "nbformat": 4,
 "nbformat_minor": 5
}
