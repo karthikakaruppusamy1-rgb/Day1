{
 "cells": [
  {
   "cell_type": "code",
   "execution_count": 2,
   "id": "1fda740a-0ce1-45f9-8a7e-951427581925",
   "metadata": {},
   "outputs": [],
   "source": [
    "#legal variables\n",
    "x=10 #single variable\n",
    "my_var=10 #underscore allowed\n",
    "var123=30 #letters+numbers allowed\n",
    "_name=\"lokesh\" #starts with underscore\n",
    "tempvar_2=\"ok\" #underscore+digit allowed"
   ]
  },
  {
   "cell_type": "code",
   "execution_count": 3,
   "id": "0376b779-1a15-49b8-a0c3-82ef7e8a8b26",
   "metadata": {},
   "outputs": [
    {
     "ename": "SyntaxError",
     "evalue": "invalid decimal literal (2025744003.py, line 2)",
     "output_type": "error",
     "traceback": [
      "\u001b[1;36m  Cell \u001b[1;32mIn[3], line 2\u001b[1;36m\u001b[0m\n\u001b[1;33m    12name=\"lk\" #starts with digit\u001b[0m\n\u001b[1;37m     ^\u001b[0m\n\u001b[1;31mSyntaxError\u001b[0m\u001b[1;31m:\u001b[0m invalid decimal literal\n"
     ]
    }
   ],
   "source": [
    "#illegal variables\n",
    "12name=\"lk\" #starts with digit\n",
    "user-name=\"test\" #hyphon not allowed\n",
    "first name=\"lokesh\" #space not allowed\n",
    "if=32 #keyword not allowed\n",
    "@home=\"chennai\" #special characters not allowed"
   ]
  },
  {
   "cell_type": "code",
   "execution_count": null,
   "id": "debb1dc0-976a-4f79-8584-ce0b2157ef0b",
   "metadata": {},
   "outputs": [],
   "source": []
  }
 ],
 "metadata": {
  "kernelspec": {
   "display_name": "Python 3 (ipykernel)",
   "language": "python",
   "name": "python3"
  },
  "language_info": {
   "codemirror_mode": {
    "name": "ipython",
    "version": 3
   },
   "file_extension": ".py",
   "mimetype": "text/x-python",
   "name": "python",
   "nbconvert_exporter": "python",
   "pygments_lexer": "ipython3",
   "version": "3.13.5"
  }
 },
 "nbformat": 4,
 "nbformat_minor": 5
}
