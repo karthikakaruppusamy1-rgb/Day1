{
 "cells": [
  {
   "cell_type": "code",
   "execution_count": 11,
   "id": "2e90ca98-cd07-4225-a2be-5ff554ba39cd",
   "metadata": {},
   "outputs": [
    {
     "name": "stdin",
     "output_type": "stream",
     "text": [
      "Enter how many terms:  6\n"
     ]
    },
    {
     "name": "stdout",
     "output_type": "stream",
     "text": [
      "0 1 1 2 3 5 "
     ]
    }
   ],
   "source": [
    "##fibonacci series\n",
    "n = int(input(\"Enter how many terms: \"))\n",
    "\n",
    "a, b = 0, 1\n",
    "for i in range(n):\n",
    "    print(a, end=\" \")\n",
    "    a, b = b, a + b"
   ]
  },
  {
   "cell_type": "code",
   "execution_count": 12,
   "id": "51beaaaa-ddba-4c95-bd7c-737891297791",
   "metadata": {},
   "outputs": [
    {
     "name": "stdout",
     "output_type": "stream",
     "text": [
      "[121, 88]\n"
     ]
    }
   ],
   "source": [
    "##palindromes\n",
    "nums = [121,133,123,88,97]\n",
    "palindromes = [n for n in nums if str(n) == str(n)[::-1]]\n",
    "print(palindromes)"
   ]
  },
  {
   "cell_type": "code",
   "execution_count": 13,
   "id": "5a5a3ce2-8248-481c-9dd4-1d28cfe3e3ab",
   "metadata": {},
   "outputs": [
    {
     "name": "stdout",
     "output_type": "stream",
     "text": [
      "1\n"
     ]
    }
   ],
   "source": [
    "## don't use string conversion into a palindrome int\n",
    "l = 121\n",
    "l = 1\n",
    "print(l%10)"
   ]
  },
  {
   "cell_type": "code",
   "execution_count": 2,
   "id": "bb4694b5-37a7-4ce9-b53e-2a3408d544cf",
   "metadata": {},
   "outputs": [
    {
     "name": "stdout",
     "output_type": "stream",
     "text": [
      "1\n",
      "12 n\n",
      "2\n",
      "1 n\n",
      "1\n",
      "0 n\n",
      "True\n"
     ]
    }
   ],
   "source": [
    "def is_palindrome(n):\n",
    "    original = n\n",
    "    rev = 0\n",
    "    while n > 0:\n",
    "        digit = n % 10        \n",
    "        rev = rev * 10 + digit  \n",
    "        print(digit)\n",
    "        n //= 10  \n",
    "        print(n,\"n\")\n",
    "    return original == rev\n",
    "\n",
    "print(is_palindrome(121))  "
   ]
  },
  {
   "cell_type": "code",
   "execution_count": 4,
   "id": "89b3e7d0-de89-4e42-ba9c-b908ca3cca1a",
   "metadata": {},
   "outputs": [
    {
     "name": "stdout",
     "output_type": "stream",
     "text": [
      "[1, 4, 9, 16, 25]\n"
     ]
    }
   ],
   "source": [
    "##map \n",
    "# Example: Square each number\n",
    "nums = [1, 2, 3, 4, 5]\n",
    "squares = list(map(lambda x: x**2, nums))\n",
    "\n",
    "print(squares)   \n"
   ]
  },
  {
   "cell_type": "code",
   "execution_count": 8,
   "id": "9900921d-df34-4fe5-a133-434fbd744a01",
   "metadata": {},
   "outputs": [
    {
     "name": "stdout",
     "output_type": "stream",
     "text": [
      "Even numbers: [2, 4, 6]\n",
      "Odd numbers: [1, 3, 5]\n"
     ]
    }
   ],
   "source": [
    "##filter\n",
    "# Example: Keep only even numbers\n",
    "nums = [1, 2, 3, 4, 5, 6]\n",
    "evens = list(filter(lambda x: x % 2 == 0, nums))\n",
    "odd = list(filter(lambda x: x % 2 != 0, nums))\n",
    "\n",
    "print(\"Even numbers:\", evens)   \n",
    "print(\"Odd numbers:\", odd)\n"
   ]
  },
  {
   "cell_type": "code",
   "execution_count": 6,
   "id": "e28741a3-7851-43b2-ab0d-89fe77daf8dc",
   "metadata": {},
   "outputs": [
    {
     "name": "stdout",
     "output_type": "stream",
     "text": [
      "[4, 16, 36]\n"
     ]
    }
   ],
   "source": [
    "##both map and filter\n",
    "# Example: Square only even numbers\n",
    "nums = [1, 2, 3, 4, 5, 6]\n",
    "result = list(map(lambda x: x**2, filter(lambda x: x % 2 == 0, nums)))\n",
    "\n",
    "print(result)   "
   ]
  },
  {
   "cell_type": "code",
   "execution_count": null,
   "id": "1b407869-3630-4c67-8bd4-08890be4be6a",
   "metadata": {},
   "outputs": [],
   "source": []
  }
 ],
 "metadata": {
  "kernelspec": {
   "display_name": "Python 3 (ipykernel)",
   "language": "python",
   "name": "python3"
  },
  "language_info": {
   "codemirror_mode": {
    "name": "ipython",
    "version": 3
   },
   "file_extension": ".py",
   "mimetype": "text/x-python",
   "name": "python",
   "nbconvert_exporter": "python",
   "pygments_lexer": "ipython3",
   "version": "3.13.5"
  }
 },
 "nbformat": 4,
 "nbformat_minor": 5
}
