{
 "cells": [
  {
   "cell_type": "code",
   "execution_count": 4,
   "id": "786595c8-a6d6-40c5-a60d-3ca09a9ab886",
   "metadata": {},
   "outputs": [
    {
     "name": "stdin",
     "output_type": "stream",
     "text": [
      "Enter a number:  9\n"
     ]
    },
    {
     "name": "stdout",
     "output_type": "stream",
     "text": [
      "Positive number\n"
     ]
    }
   ],
   "source": [
    "# Define a method to check number\n",
    "def check_number(num):\n",
    "    if num > 0:                     # Condition 1: If number is greater than 0\n",
    "        return \"Positive number\"    # Return message for positive\n",
    "    elif num < 0:                   # Condition 2: If number is less than 0\n",
    "        return \"Negative number\"    # Return message for negative\n",
    "    else:                           # Condition 3: Otherwise (equal to 0)\n",
    "        return \"Zero\"               # Return message for zero\n",
    "\n",
    "# Take input from user\n",
    "number = int(input(\"Enter a number: \"))\n",
    "\n",
    "# Call the method and store the result\n",
    "result = check_number(number)\n",
    "\n",
    "# Print the result\n",
    "print(result)\n"
   ]
  },
  {
   "cell_type": "code",
   "execution_count": null,
   "id": "8a342ba7-a8ed-4ce7-9d16-f7ab892d8b40",
   "metadata": {},
   "outputs": [],
   "source": [
    "##Define a method to check number is positive, negative, or zero\n",
    "def check_number(num):\n",
    "    if num > 0:\n",
    "        return \"positive number\"\n",
    "    elif num < 0:\n",
    "        return \"negative number\"\n",
    "    else:\n",
    "        return \"zero\"\n",
    "\n",
    "number = int(input(\"enter a number:\"))\n",
    "\n",
    "result = check_number(number)\n",
    "\n",
    "print(result)"
   ]
  },
  {
   "cell_type": "code",
   "execution_count": null,
   "id": "04987d35-1f64-4a15-a0f9-0eb7b5d61c16",
   "metadata": {},
   "outputs": [],
   "source": []
  }
 ],
 "metadata": {
  "kernelspec": {
   "display_name": "Python 3 (ipykernel)",
   "language": "python",
   "name": "python3"
  },
  "language_info": {
   "codemirror_mode": {
    "name": "ipython",
    "version": 3
   },
   "file_extension": ".py",
   "mimetype": "text/x-python",
   "name": "python",
   "nbconvert_exporter": "python",
   "pygments_lexer": "ipython3",
   "version": "3.13.5"
  }
 },
 "nbformat": 4,
 "nbformat_minor": 5
}
