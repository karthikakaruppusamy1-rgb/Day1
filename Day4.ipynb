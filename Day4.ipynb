{
 "cells": [
  {
   "cell_type": "code",
   "execution_count": 1,
   "id": "de90e46d-cbd6-45dc-8c1c-e0266d790055",
   "metadata": {},
   "outputs": [
    {
     "name": "stdout",
     "output_type": "stream",
     "text": [
      "True\n"
     ]
    }
   ],
   "source": [
    "##check if not\n",
    "txt = \"The best things in life are free!\"\n",
    "print(\"expensive\" not in txt)"
   ]
  },
  {
   "cell_type": "code",
   "execution_count": 2,
   "id": "0df09cdb-b23f-406c-b66f-40cd6bbf0a98",
   "metadata": {},
   "outputs": [
    {
     "name": "stdout",
     "output_type": "stream",
     "text": [
      "No, 'expensive' is NOT present.\n"
     ]
    }
   ],
   "source": [
    "##if statement\n",
    "txt = \"The best things in life are free!\"\n",
    "if \"expensive\" not in txt:\n",
    "    print(\"No, 'expensive' is NOT present.\")"
   ]
  },
  {
   "cell_type": "code",
   "execution_count": 3,
   "id": "90d1b4ef-567e-4610-a766-313476f62e12",
   "metadata": {},
   "outputs": [
    {
     "name": "stdout",
     "output_type": "stream",
     "text": [
      "Hiipython\n"
     ]
    }
   ],
   "source": [
    "##string concatenation\n",
    "a=\"Hii\"\n",
    "b=\"python\"\n",
    "c=a+b\n",
    "print(c)"
   ]
  },
  {
   "cell_type": "code",
   "execution_count": 5,
   "id": "c5efb04f-f8ae-4300-bfc8-ea6db9ee97d7",
   "metadata": {},
   "outputs": [
    {
     "name": "stdout",
     "output_type": "stream",
     "text": [
      "Hii python\n"
     ]
    }
   ],
   "source": [
    "a=\"Hii\"\n",
    "b=\"python\"\n",
    "c=a+\" \"+b\n",
    "print(c)"
   ]
  },
  {
   "cell_type": "code",
   "execution_count": 4,
   "id": "84850587-5286-4da4-84c7-80a64066279e",
   "metadata": {},
   "outputs": [
    {
     "name": "stdout",
     "output_type": "stream",
     "text": [
      "my name is LK, I am 21\n"
     ]
    }
   ],
   "source": [
    "##f string format\n",
    "age = 21\n",
    "txt=f\"my name is LK, I am {age}\"\n",
    "print(txt)"
   ]
  },
  {
   "cell_type": "code",
   "execution_count": 15,
   "id": "73cf1baa-6ce5-4402-af1f-31a7239ec577",
   "metadata": {},
   "outputs": [
    {
     "name": "stdout",
     "output_type": "stream",
     "text": [
      "The price is 2.000000 dollars\n"
     ]
    }
   ],
   "source": [
    "##price variable\n",
    "price=2\n",
    "txt=f\"The price is {price:2f} dollars\"\n",
    "print(txt)"
   ]
  },
  {
   "cell_type": "code",
   "execution_count": 16,
   "id": "333943de-0301-4ee2-a945-abcb28cb5d9e",
   "metadata": {},
   "outputs": [
    {
     "name": "stdout",
     "output_type": "stream",
     "text": [
      "The price is 940 dollars\n"
     ]
    }
   ],
   "source": [
    "txt=f\"The price is {20*47} dollars\"\n",
    "print(txt)"
   ]
  },
  {
   "cell_type": "code",
   "execution_count": 17,
   "id": "fc82f8ae-b0ed-499c-9aad-49970a426cea",
   "metadata": {},
   "outputs": [
    {
     "name": "stdout",
     "output_type": "stream",
     "text": [
      "b is greater than a\n"
     ]
    }
   ],
   "source": [
    "##true or false\n",
    "a=10\n",
    "b=20\n",
    "if b>a:\n",
    "    print(\"b is greater than a\")\n",
    "else:\n",
    "    print(\"b is not greate than a\")"
   ]
  },
  {
   "cell_type": "code",
   "execution_count": 20,
   "id": "f14fb61b-705f-44f0-98e0-beebc458c1e1",
   "metadata": {},
   "outputs": [
    {
     "name": "stdout",
     "output_type": "stream",
     "text": [
      "True\n",
      "True\n"
     ]
    }
   ],
   "source": [
    "a=\"Hello\"\n",
    "b=20\n",
    "print(bool(a))\n",
    "print(bool(b))"
   ]
  },
  {
   "cell_type": "code",
   "execution_count": 23,
   "id": "ee438afc-fb90-4347-a14a-7ea8d9c02e4f",
   "metadata": {},
   "outputs": [
    {
     "data": {
      "text/plain": [
       "True"
      ]
     },
     "execution_count": 23,
     "metadata": {},
     "output_type": "execute_result"
    }
   ],
   "source": [
    "bool(\"abc\")\n",
    "bool(123)\n",
    "bool([\"apple\", \"cherry\", \"banana\"])"
   ]
  },
  {
   "cell_type": "code",
   "execution_count": 37,
   "id": "b0a953db-0408-43f9-b1e3-fd1f1cf97225",
   "metadata": {},
   "outputs": [
    {
     "name": "stdout",
     "output_type": "stream",
     "text": [
      "['apple', 'banana', 'cherry', 'b', 'l', 'a', 'c', 'k', 'c', 'u', 'r', 'r', 'e', 'n', 't', 'mango']\n"
     ]
    }
   ],
   "source": [
    "##change item value\n",
    "thislist=[\"apple\", \"banana\", \"cherry\", \"orange\", \"kiwi\", \"mango\"]\n",
    "thislist[3:5]=\"blackcurrent\"\n",
    "print(thislist)"
   ]
  },
  {
   "cell_type": "code",
   "execution_count": 8,
   "id": "6a2d7e27-9d80-4047-b704-d630b6b9c490",
   "metadata": {},
   "outputs": [
    {
     "name": "stdout",
     "output_type": "stream",
     "text": [
      "Happy birthday LK you are now on level 21!\n"
     ]
    }
   ],
   "source": [
    "##format() map\n",
    "myvar ={\"name\": \"LK\", \"age\": \"21\"}\n",
    "txt = \"Happy birthday {name} you are now on level {age}!\"\n",
    "print(txt.format_map(myvar))"
   ]
  },
  {
   "cell_type": "code",
   "execution_count": 11,
   "id": "cf2cf0ef-9e72-4a16-9fa0-971f231ad5ff",
   "metadata": {},
   "outputs": [
    {
     "name": "stdout",
     "output_type": "stream",
     "text": [
      "18\n"
     ]
    }
   ],
   "source": [
    "##find() method\n",
    "txt=\"Hello, welcome to my world\"\n",
    "x=txt.find(\"my\")\n",
    "print(x)"
   ]
  },
  {
   "cell_type": "code",
   "execution_count": 14,
   "id": "1a1f0f7e-494a-4533-ac48-55066ce94a03",
   "metadata": {},
   "outputs": [
    {
     "name": "stdout",
     "output_type": "stream",
     "text": [
      "b'my name is LK'\n"
     ]
    }
   ],
   "source": [
    "##encode() method\n",
    "txt = \"my name is LK\"\n",
    "x = txt.encode()\n",
    "print(x)"
   ]
  },
  {
   "cell_type": "code",
   "execution_count": 21,
   "id": "3f99e965-a438-4fb7-beae-46ab7809c403",
   "metadata": {},
   "outputs": [
    {
     "name": "stdout",
     "output_type": "stream",
     "text": [
      "john.peter.vicky\n"
     ]
    }
   ],
   "source": [
    "##join() method\n",
    "txt=(\"john\", \"peter\", \"vicky\")\n",
    "x=\".\".join(txt)\n",
    "print(x)"
   ]
  },
  {
   "cell_type": "code",
   "execution_count": 22,
   "id": "fa1bd8a3-dbd0-4f05-8ae1-3610276ef975",
   "metadata": {},
   "outputs": [
    {
     "name": "stdout",
     "output_type": "stream",
     "text": [
      "['apple', 'banana', 'cherry']\n"
     ]
    }
   ],
   "source": [
    "##list() function\n",
    "x=list(('apple', 'banana', 'cherry'))\n",
    "print(x)"
   ]
  },
  {
   "cell_type": "code",
   "execution_count": 23,
   "id": "dc3b4624-d3f8-44c9-8916-e338e9d06c39",
   "metadata": {},
   "outputs": [
    {
     "name": "stdout",
     "output_type": "stream",
     "text": [
      "His name is Lokesh. Lokesh is 21 years old\n"
     ]
    }
   ],
   "source": [
    "##index number\n",
    "age=21\n",
    "name=\"Lokesh\"\n",
    "txt=\"His name is {1}. {1} is {0} years old\"\n",
    "print(txt.format(age, name))"
   ]
  },
  {
   "cell_type": "code",
   "execution_count": 25,
   "id": "109bde8f-2237-4afc-8579-585f7e63ba19",
   "metadata": {},
   "outputs": [
    {
     "name": "stdout",
     "output_type": "stream",
     "text": [
      "I have a ford, it is a mustang\n"
     ]
    }
   ],
   "source": [
    "##named index\n",
    "myorder=\"I have a {carname}, it is a {model}\"\n",
    "print(myorder.format(carname=\"ford\", model=\"mustang\"))"
   ]
  },
  {
   "cell_type": "code",
   "execution_count": null,
   "id": "dccd414f-3e43-4670-83fd-47c19212314a",
   "metadata": {},
   "outputs": [],
   "source": []
  }
 ],
 "metadata": {
  "kernelspec": {
   "display_name": "Python 3 (ipykernel)",
   "language": "python",
   "name": "python3"
  },
  "language_info": {
   "codemirror_mode": {
    "name": "ipython",
    "version": 3
   },
   "file_extension": ".py",
   "mimetype": "text/x-python",
   "name": "python",
   "nbconvert_exporter": "python",
   "pygments_lexer": "ipython3",
   "version": "3.13.5"
  }
 },
 "nbformat": 4,
 "nbformat_minor": 5
}
